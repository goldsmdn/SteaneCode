{
 "cells": [
  {
   "cell_type": "markdown",
   "metadata": {},
   "source": [
    "Single qubit errors\n",
    "===============\n",
    "\n",
    "This is a simulation of single qubit errors to give confidence that the noise model in qiskit is working as expected.  This test shows that the depolarising error has the expected impact on a single qubit.\n",
    "\n",
    "This is part of an MSc project on the Steane code.  Please see https://goldsmdn.github.io/ for full details."
   ]
  },
  {
   "cell_type": "markdown",
   "metadata": {},
   "source": [
    "Import the necessary function modules."
   ]
  },
  {
   "cell_type": "code",
   "execution_count": 1,
   "metadata": {},
   "outputs": [],
   "source": [
    "from qiskit import(\n",
    "  QuantumCircuit,\n",
    "  QuantumRegister,\n",
    "  ClassicalRegister,\n",
    "  execute,\n",
    "  Aer)\n",
    "\n",
    "from qiskit.providers.aer.noise import NoiseModel\n",
    "from qiskit.providers.aer.noise.errors import pauli_error, depolarizing_error"
   ]
  },
  {
   "cell_type": "markdown",
   "metadata": {},
   "source": [
    "Define constants so the process flow can be controlled from one place:"
   ]
  },
  {
   "cell_type": "code",
   "execution_count": 2,
   "metadata": {},
   "outputs": [],
   "source": [
    "SHOTS = 10000                            #Number of shots to run \n",
    "MEASURE_NOISE = 0.001                    #Measurement noise\n",
    "SINGLE_GATE_NOISE = 0.005                #Gate noise    \n",
    "NOISE = True                             #Test with noise\n",
    "QBITS = 20\n",
    "LIST_QUBIT_TYPES = ['x','y','z','h','s','sdg']\n",
    "\n",
    "SIMULATOR = Aer.get_backend('qasm_simulator')"
   ]
  },
  {
   "cell_type": "markdown",
   "metadata": {},
   "source": [
    "Define the noise model"
   ]
  },
  {
   "cell_type": "code",
   "execution_count": 3,
   "metadata": {},
   "outputs": [],
   "source": [
    "def get_noise(p_meas,p_gate):\n",
    "\n",
    "    error_meas = pauli_error([('X',p_meas), ('I', 1 - p_meas)])\n",
    "    error_gate1 = depolarizing_error(p_gate, 1)\n",
    "    error_gate2 = error_gate1.tensor(error_gate1)\n",
    "    error_gate3 = error_gate1.tensor(error_gate1)\n",
    "\n",
    "    noise_model = NoiseModel()\n",
    "    noise_model.add_all_qubit_quantum_error(error_meas, \"measure\") # measurement error is applied to measurements\n",
    "    noise_model.add_all_qubit_quantum_error(error_gate1, ['x', 'y', 'z', 'h', 's', 'sdg'])  # single qubit gate errors\n",
    "    noise_model.add_all_qubit_quantum_error(error_gate2, ['cx']) # two qubit gate error is applied to cx gates\n",
    "    noise_model.add_all_qubit_quantum_error(error_gate3, ['cz']) # same two qubit gate error is applied to cz gates\n",
    "\n",
    "    return noise_model"
   ]
  },
  {
   "cell_type": "markdown",
   "metadata": {},
   "source": [
    "We calculate the expected number of measurements unimpacted by an error given that the depolarising error will cause a random X, Y, Z and I gate.  Only the X and Y gate will have a measurable impact so the error rate observed is expected to be half the single_gate_noise parameter."
   ]
  },
  {
   "cell_type": "code",
   "execution_count": 4,
   "metadata": {},
   "outputs": [],
   "source": [
    "expected = (SHOTS * (1 - SINGLE_GATE_NOISE / 2)**QBITS) * (1 - MEASURE_NOISE)"
   ]
  },
  {
   "cell_type": "markdown",
   "metadata": {},
   "source": [
    "For each qubit type we find the error."
   ]
  },
  {
   "cell_type": "code",
   "execution_count": 5,
   "metadata": {},
   "outputs": [
    {
     "name": "stdout",
     "output_type": "stream",
     "text": [
      "With 10000 shots we expect to see 9502 of the 0 state .\n",
      "With the x gate the results were {'0': 9503, '1': 497}\n",
      "With the y gate the results were {'0': 9512, '1': 488}\n",
      "With the z gate the results were {'0': 9511, '1': 489}\n",
      "With the h gate the results were {'0': 9523, '1': 477}\n",
      "With the s gate the results were {'0': 9537, '1': 463}\n",
      "With the sdg gate the results were {'0': 9497, '1': 503}\n"
     ]
    }
   ],
   "source": [
    "print(f'With {SHOTS} shots we expect to see {expected:.0f} of the 0 state .')\n",
    "\n",
    "for qubit_type in LIST_QUBIT_TYPES:\n",
    "    qr = QuantumRegister(1,'code_qubit')     # One qubit\n",
    "    cr = ClassicalRegister(1,'syndrome_bit') # One Syndrome bit\n",
    "    qc = QuantumCircuit(qr,cr)\n",
    "    \n",
    "    for i in range(QBITS):\n",
    "        if qubit_type == 'x':\n",
    "            qc.x(qr[0])\n",
    "        elif qubit_type == 'y':\n",
    "            qc.y(qr[0])\n",
    "        elif qubit_type == 'z':  \n",
    "            qc.z(qr[0])\n",
    "        elif qubit_type == 'h': \n",
    "            qc.h(qr[0])\n",
    "        elif qubit_type == 's':  \n",
    "            qc.s(qr[0])\n",
    "        elif qubit_type == 'sdg': \n",
    "            qc.sdg(qr[0])\n",
    "        else:\n",
    "            raise Exception(\"Unexpected qubit type in list\")\n",
    "    qc.measure(qr, cr)\n",
    "    \n",
    "    #initialise circuit\n",
    "    noise_model = get_noise(MEASURE_NOISE,SINGLE_GATE_NOISE)\n",
    "    if NOISE:\n",
    "        result = execute(qc, SIMULATOR, noise_model=noise_model, shots=SHOTS).result()\n",
    "    else:\n",
    "        result = execute(qc, SIMULATOR, shots=SHOTS).result()     \n",
    "    counts = result.get_counts(qc)\n",
    "    print(f'With the {qubit_type} gate the results were {counts}')"
   ]
  },
  {
   "cell_type": "code",
   "execution_count": 6,
   "metadata": {},
   "outputs": [
    {
     "data": {
      "image/png": "[encoded data removed]",
      "text/plain": [
       "<Figure size 1465.89x144.48 with 1 Axes>"
      ]
     },
     "execution_count": 6,
     "metadata": {},
     "output_type": "execute_result"
    }
   ],
   "source": [
    "qc.draw(output='mpl')"
   ]
  },
  {
   "cell_type": "code",
   "execution_count": null,
   "metadata": {},
   "outputs": [],
   "source": []
  }
 ],
 "metadata": {
  "kernelspec": {
   "display_name": "Python 3",
   "language": "python",
   "name": "python3"
  },
  "language_info": {
   "codemirror_mode": {
    "name": "ipython",
    "version": 3
   },
   "file_extension": ".py",
   "mimetype": "text/x-python",
   "name": "python",
   "nbconvert_exporter": "python",
   "pygments_lexer": "ipython3",
   "version": "3.8.3"
  }
 },
 "nbformat": 4,
 "nbformat_minor": 4
}
