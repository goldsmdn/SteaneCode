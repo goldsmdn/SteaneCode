{
 "cells": [
  {
   "cell_type": "markdown",
   "metadata": {},
   "source": [
    "Single qubit errors\n",
    "===============\n",
    "\n",
    "This is a simulation of single qubit errors in Qiskit to verify the depolarising and measurement noise model.  \n",
    "\n",
    "In the depolarising error channel in Qiskit the parameter p implies a probability p that a qubit changes to a completely mixed state.  When the qubit is measured then with probability p/2 it will no longer be in the ground state.  \n",
    "This was checked by applying the noise model to sequential X, Y, Z, H, S and SDG gates, measuring the result, and comparing with a calculation. \n",
    "\n",
    "This is part of an MSc project on the Steane code.  Please see https://goldsmdn.github.io/ for full details."
   ]
  },
  {
   "cell_type": "markdown",
   "metadata": {},
   "source": [
    "Import the necessary function modules."
   ]
  },
  {
   "cell_type": "code",
   "execution_count": 1,
   "metadata": {},
   "outputs": [],
   "source": [
    "from qiskit import(\n",
    "  QuantumCircuit,\n",
    "  QuantumRegister,\n",
    "  ClassicalRegister,\n",
    "  execute,\n",
    "  Aer)\n",
    "\n",
    "from qiskit.providers.aer.noise import NoiseModel\n",
    "from qiskit.providers.aer.noise.errors import pauli_error, depolarizing_error"
   ]
  },
  {
   "cell_type": "markdown",
   "metadata": {},
   "source": [
    "Define constants so the process flow can be controlled from one place:"
   ]
  },
  {
   "cell_type": "code",
   "execution_count": 2,
   "metadata": {},
   "outputs": [],
   "source": [
    "SHOTS = 10000                                  #Number of shots to run \n",
    "MEASURE_NOISE = 0.01                           #Measurement noise\n",
    "SINGLE_GATE_DEPOLARISING = 0.000366            #Single gate depolarising.    \n",
    "NOISE = True                                   #Test with noise\n",
    "GATE_DEPTH = 16                                #Gate depth\n",
    "LIST_GATE_TYPES = ['s','sdg','h','x','y','z']  #List of gates that is iterated over  \n",
    "\n",
    "SIMULATOR = Aer.get_backend('qasm_simulator')"
   ]
  },
  {
   "cell_type": "markdown",
   "metadata": {},
   "source": [
    "Define the noise model"
   ]
  },
  {
   "cell_type": "code",
   "execution_count": 3,
   "metadata": {},
   "outputs": [],
   "source": [
    "def get_noise(p_meas,p_gate):\n",
    "    #measurement noise\n",
    "    error_meas = pauli_error([('X',p_meas), ('I', 1 - p_meas)])\n",
    "    \n",
    "    #depolarising noise\n",
    "    error_gate1 = depolarizing_error(p_gate, 1)\n",
    "\n",
    "    #set up Noise Model\n",
    "    noise_model = NoiseModel()\n",
    "    noise_model.add_all_qubit_quantum_error(error_meas, \"measure\") # measurement error is applied to measurements\n",
    "    noise_model.add_all_qubit_quantum_error(error_gate1, LIST_GATE_TYPES)  # single qubit gate errors\n",
    "\n",
    "    return noise_model"
   ]
  },
  {
   "cell_type": "markdown",
   "metadata": {},
   "source": [
    "The expected number of measurements in the ground state is estimated, recalling that with probabilily SINGLE_GATE_DEPOLARISING / 2 the gate will no longer be in the ground state. "
   ]
  },
  {
   "cell_type": "code",
   "execution_count": 4,
   "metadata": {},
   "outputs": [],
   "source": [
    "expected = (SHOTS * (1 - SINGLE_GATE_DEPOLARISING /2 ) ** GATE_DEPTH) * (1 - MEASURE_NOISE)"
   ]
  },
  {
   "cell_type": "markdown",
   "metadata": {},
   "source": [
    "For each gate type we find the error."
   ]
  },
  {
   "cell_type": "code",
   "execution_count": 5,
   "metadata": {},
   "outputs": [
    {
     "name": "stdout",
     "output_type": "stream",
     "text": [
      "With 10000 shots we expect to see 9871 measurements of the |0> ground state .\n",
      "With the s gate the simulated measurements in the ground state were {'0': 9866, '1': 134}\n",
      "With the sdg gate the simulated measurements in the ground state were {'0': 9863, '1': 137}\n",
      "With the h gate the simulated measurements in the ground state were {'0': 9875, '1': 125}\n",
      "With the x gate the simulated measurements in the ground state were {'0': 9866, '1': 134}\n",
      "With the y gate the simulated measurements in the ground state were {'0': 9883, '1': 117}\n",
      "With the z gate the simulated measurements in the ground state were {'0': 9883, '1': 117}\n"
     ]
    }
   ],
   "source": [
    "print(f'With {SHOTS} shots we expect to see {expected:.0f} measurements of the |0> ground state .')\n",
    "\n",
    "for qubit_type in LIST_GATE_TYPES:\n",
    "    qr = QuantumRegister(1,'code_qubit')     # One qubit\n",
    "    cr = ClassicalRegister(1,'syndrome_bit') # One Syndrome bit\n",
    "    qc = QuantumCircuit(qr,cr)\n",
    "    \n",
    "    for i in range(GATE_DEPTH):\n",
    "    # set up the circuit\n",
    "        if qubit_type == 'x':\n",
    "            qc.x(qr[0])\n",
    "        elif qubit_type == 'y':\n",
    "            qc.y(qr[0])\n",
    "        elif qubit_type == 'z':  \n",
    "            qc.z(qr[0])\n",
    "        elif qubit_type == 'h': \n",
    "            qc.h(qr[0])\n",
    "        elif qubit_type == 's':  \n",
    "            qc.s(qr[0])\n",
    "        elif qubit_type == 'sdg': \n",
    "            qc.sdg(qr[0])\n",
    "        else:\n",
    "            raise Exception(\"Unexpected qubit type in list\")\n",
    "    qc.measure(qr, cr)\n",
    "    \n",
    "    #initialise circuit\n",
    "    noise_model = get_noise(MEASURE_NOISE,SINGLE_GATE_DEPOLARISING)\n",
    "    if NOISE:\n",
    "        result = execute(qc, SIMULATOR, noise_model=noise_model, shots=SHOTS).result()\n",
    "    else:\n",
    "        result = execute(qc, SIMULATOR, shots=SHOTS).result()     \n",
    "    counts = result.get_counts(qc)\n",
    "    print(f'With the {qubit_type} gate the simulated measurements in the ground state were {counts}')"
   ]
  },
  {
   "cell_type": "markdown",
   "metadata": {},
   "source": [
    " An example circuit is shown below."
   ]
  },
  {
   "cell_type": "code",
   "execution_count": 6,
   "metadata": {},
   "outputs": [
    {
     "data": {
      "image/png": "[encoded data removed]",
      "text/plain": [
       "<Figure size 1225.09x144.48 with 1 Axes>"
      ]
     },
     "execution_count": 6,
     "metadata": {},
     "output_type": "execute_result"
    }
   ],
   "source": [
    "qc.draw(output='mpl', filename = 'Basic_single_qubit_error_circuit.jpg', fold=60)"
   ]
  }
 ],
 "metadata": {
  "kernelspec": {
   "display_name": "Python 3",
   "language": "python",
   "name": "python3"
  },
  "language_info": {
   "codemirror_mode": {
    "name": "ipython",
    "version": 3
   },
   "file_extension": ".py",
   "mimetype": "text/x-python",
   "name": "python",
   "nbconvert_exporter": "python",
   "pygments_lexer": "ipython3",
   "version": "3.8.3"
  }
 },
 "nbformat": 4,
 "nbformat_minor": 4
}
