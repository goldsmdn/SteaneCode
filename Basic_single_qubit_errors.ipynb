{
 "cells": [
  {
   "cell_type": "markdown",
   "metadata": {},
   "source": [
    "Single qubit errors\n",
    "===============\n",
    "\n",
    "This is a simulation of single qubit errors in Qiskit to verify the depolarising and measurement noise model.  \n",
    "\n",
    "In the depolarising error channel in Qiskit the parameter p implies a probability p that a qubit changes to a completely mixed state.  When the qubit is measured then with probability p/2 it will no longer be in the ground state.  \n",
    "This was checked by applying the noise model to sequential X, Y, Z, H, S and SDG gates, measuring the result, and comparing with a calculation. \n",
    "\n",
    "This is part of an MSc project on the Steane code.  Please see https://goldsmdn.github.io/ for full details."
   ]
  },
  {
   "cell_type": "markdown",
   "metadata": {},
   "source": [
    "Import the necessary function modules."
   ]
  },
  {
   "cell_type": "code",
   "execution_count": 1,
   "metadata": {},
   "outputs": [],
   "source": [
    "from qiskit import(\n",
    "  QuantumCircuit,\n",
    "  QuantumRegister,\n",
    "  ClassicalRegister,\n",
    "  execute,\n",
    "  Aer)\n",
    "\n",
    "from qiskit.providers.aer.noise import NoiseModel\n",
    "from qiskit.providers.aer.noise.errors import pauli_error, depolarizing_error\n",
    "\n",
    "from helper_functions import get_noise, mean_of_list, calculate_standard_error"
   ]
  },
  {
   "cell_type": "markdown",
   "metadata": {},
   "source": [
    "Define constants so the process flow can be controlled from one place:"
   ]
  },
  {
   "cell_type": "code",
   "execution_count": 2,
   "metadata": {},
   "outputs": [],
   "source": [
    "SINGLE_GATE_SET = ['s','sdg','h','x','y','z']\n",
    "TWO_GATE_SET = ['cx', 'cz']                    #Two gates not relevant\n",
    "SHOTS = 10000                                  #Number of shots to run \n",
    "MEASURE_NOISE = 0.0046                         #Measurement noise\n",
    "SINGLE_GATE_DEPOLARISING = 0.000366            #Single gate depolarising.   \n",
    "TWO_GATE_DEPOLARISING = 0                      #Not relevant\n",
    "NOISE = True                                   #Test with noise\n",
    "GATE_DEPTH = 8                                 #Gate depth\n",
    "LIST_GATE_TYPES = SINGLE_GATE_SET              #List of gates that is iterated over \n",
    "ITERATIONS = 25                                \n",
    "#Number of iterations.  Note will take several minutes to run with 25 iterations.\n",
    "\n",
    "\n",
    "SIMULATOR = Aer.get_backend('qasm_simulator')"
   ]
  },
  {
   "cell_type": "markdown",
   "metadata": {},
   "source": [
    "The expected number of measurements in the ground state is estimated, recalling that with probabilily SINGLE_GATE_DEPOLARISING / 2 the gate will no longer be in the ground state. "
   ]
  },
  {
   "cell_type": "code",
   "execution_count": 3,
   "metadata": {},
   "outputs": [],
   "source": [
    "expected = ((1 - SINGLE_GATE_DEPOLARISING /2 ) ** GATE_DEPTH) * (1 - MEASURE_NOISE)"
   ]
  },
  {
   "cell_type": "markdown",
   "metadata": {},
   "source": [
    "For each gate type we find the error."
   ]
  },
  {
   "cell_type": "code",
   "execution_count": 4,
   "metadata": {},
   "outputs": [
    {
     "name": "stdout",
     "output_type": "stream",
     "text": [
      "We expect the |0> ground state with probability 0.9939.\n",
      "There were 25 iterations.\n",
      "\n",
      "For the s gate\n",
      "  The mean is 0.9941\n",
      "  The standard deviation is 0.0009 and the standard error is 0.0002\n",
      "For the sdg gate\n",
      "  The mean is 0.9941\n",
      "  The standard deviation is 0.0007 and the standard error is 0.0001\n",
      "For the h gate\n",
      "  The mean is 0.9937\n",
      "  The standard deviation is 0.0008 and the standard error is 0.0002\n",
      "For the x gate\n",
      "  The mean is 0.9938\n",
      "  The standard deviation is 0.0007 and the standard error is 0.0001\n",
      "For the y gate\n",
      "  The mean is 0.9937\n",
      "  The standard deviation is 0.0009 and the standard error is 0.0002\n",
      "For the z gate\n",
      "  The mean is 0.9938\n",
      "  The standard deviation is 0.0007 and the standard error is 0.0001\n"
     ]
    }
   ],
   "source": [
    "print(f'We expect the |0> ground state with probability {expected:.4f}.')\n",
    "print(f'There were {ITERATIONS} iterations.')\n",
    "print()\n",
    "\n",
    "for qubit_type in LIST_GATE_TYPES:\n",
    "    ground_state_list = []\n",
    "    for iteration in range(ITERATIONS):\n",
    "        qr = QuantumRegister(1,'code_qubit')     # One qubit\n",
    "        cr = ClassicalRegister(1,'syndrome_bit') # One Syndrome bit\n",
    "        qc = QuantumCircuit(qr,cr)\n",
    "        qc.reset(qr[0])\n",
    "        for i in range(GATE_DEPTH):\n",
    "        # set up the circuit\n",
    "            if qubit_type == 'x':\n",
    "                qc.x(qr[0])\n",
    "            elif qubit_type == 'y':\n",
    "                qc.y(qr[0])\n",
    "            elif qubit_type == 'z':  \n",
    "                qc.z(qr[0])\n",
    "            elif qubit_type == 'h': \n",
    "                qc.h(qr[0])\n",
    "            elif qubit_type == 's':  \n",
    "                qc.s(qr[0])\n",
    "            elif qubit_type == 'sdg': \n",
    "                qc.sdg(qr[0])\n",
    "            else:\n",
    "                raise Exception(\"Unexpected qubit type in list\")\n",
    "        qc.measure(qr, cr)\n",
    "\n",
    "        #initialise circuit\n",
    "        noise_model = get_noise(MEASURE_NOISE, SINGLE_GATE_DEPOLARISING, TWO_GATE_DEPOLARISING,\n",
    "                               SINGLE_GATE_SET, TWO_GATE_SET)\n",
    "        if NOISE:\n",
    "            result = execute(qc, SIMULATOR, noise_model=noise_model, shots=SHOTS).result()\n",
    "        else:\n",
    "            result = execute(qc, SIMULATOR, shots=SHOTS).result()     \n",
    "        counts = result.get_counts(qc)\n",
    "        ground_state = counts['0'] / SHOTS\n",
    "        ground_state_list.append(ground_state)\n",
    "    standard_deviation, standard_error = calculate_standard_error(ground_state_list)\n",
    "    mean = mean_of_list(ground_state_list)\n",
    "    print(f'For the {qubit_type} gate')\n",
    "    print(f'  The mean is {mean:.4f}') \n",
    "    print(f'  The standard deviation is {standard_deviation:.4f} and the standard error is {standard_error:.4f}')"
   ]
  },
  {
   "cell_type": "markdown",
   "metadata": {},
   "source": [
    " An example circuit is shown below."
   ]
  },
  {
   "cell_type": "code",
   "execution_count": 5,
   "metadata": {},
   "outputs": [
    {
     "data": {
      "image/png": "[encoded data removed]",
      "text/plain": [
       "<Figure size 803.692x144.48 with 1 Axes>"
      ]
     },
     "execution_count": 5,
     "metadata": {},
     "output_type": "execute_result"
    }
   ],
   "source": [
    "qc.draw(output='mpl', filename = 'Basic_single_qubit_error_circuit.jpg', fold=60)"
   ]
  }
 ],
 "metadata": {
  "kernelspec": {
   "display_name": "Python 3",
   "language": "python",
   "name": "python3"
  },
  "language_info": {
   "codemirror_mode": {
    "name": "ipython",
    "version": 3
   },
   "file_extension": ".py",
   "mimetype": "text/x-python",
   "name": "python",
   "nbconvert_exporter": "python",
   "pygments_lexer": "ipython3",
   "version": "3.8.10"
  }
 },
 "nbformat": 4,
 "nbformat_minor": 4
}
