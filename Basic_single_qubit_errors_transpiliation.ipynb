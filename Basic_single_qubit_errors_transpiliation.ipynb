{
 "cells": [
  {
   "cell_type": "markdown",
   "metadata": {},
   "source": [
    "Single qubit errors - transpilation\n",
    "===========================\n",
    "\n",
    "This is a simulation of single qubit errors in Qiskit to verify transpiling and the depolarising and measurement noise model.  \n",
    "\n",
    "In the depolarising error channel in Qiskit the parameter p implies a probability p that a qubit changes to a completely mixed state.  When the qubit is measured then with probability p/2 it will no longer be in the ground state.  \n",
    "This was checked by applying the noise model to sequential X, Y, Z, H, S and SDG gates, measuring the result, and comparing with a calculation. \n",
    "\n",
    "The transpilation process maps each gate to an equivalent gate in the gate set for an Ion computer as follows\n",
    "\n",
    " - X -> Rx(Pi)\n",
    " - Y -> Rx(Pi/2) Ry(-Pi/2) Rx(Pi/2)\n",
    " - Z -> Rx(Pi/2) Ry(-Pi) Rx(-Pi/2)\n",
    " - H -> Rx(Pi) Ry(-Pi/2)\n",
    " - S -> Rx(Pi/2) Ry(-Pi/2) Rx(-Pi/2)\n",
    " - SDG -> Rx(-Pi/2) Ry(-Pi/2) Rx(Pi/2)\n",
    "\n",
    "Note - a global phase change has been ignored.\n",
    "\n",
    "if there are a number of sequential gates then the transpilation won’t produce all the expected gates, and so the calculation won't agree.  \n",
    "\n",
    "This is part of an MSc project on the Steane code.  Please see https://goldsmdn.github.io/ for full details."
   ]
  },
  {
   "cell_type": "markdown",
   "metadata": {},
   "source": [
    "Import the necessary function modules."
   ]
  },
  {
   "cell_type": "code",
   "execution_count": 1,
   "metadata": {},
   "outputs": [],
   "source": [
    "from qiskit import(\n",
    "  QuantumCircuit,\n",
    "  QuantumRegister,\n",
    "  ClassicalRegister,\n",
    "  execute,\n",
    "  Aer)\n",
    "\n",
    "from qiskit.providers.aer.noise import NoiseModel\n",
    "from qiskit.providers.aer.noise.errors import pauli_error, depolarizing_error\n",
    "from qiskit.compiler import transpile\n",
    "\n",
    "import math\n",
    "\n",
    "from helper_functions import (\n",
    "    get_noise,\n",
    "    calculate_standard_error,\n",
    "    mean_of_list\n",
    "    ) "
   ]
  },
  {
   "cell_type": "markdown",
   "metadata": {},
   "source": [
    "Define constants so the process flow can be controlled from one place:"
   ]
  },
  {
   "cell_type": "code",
   "execution_count": 2,
   "metadata": {},
   "outputs": [],
   "source": [
    "# gate set for Ion computer noise model\n",
    "SINGLE_GATE_SET = ['id', 'ry', 'rx']\n",
    "TWO_GATE_SET = ['rxx']\n",
    "BASIS_GATE_SET = SINGLE_GATE_SET + TWO_GATE_SET\n",
    "\n",
    "SHOTS = 10000                                   #Number of shots to run \n",
    "MEASURE_NOISE = 0.0                             #Measurement noise\n",
    "SINGLE_GATE_DEPOLARISING = 0.01                 #Single gate depolarising. \n",
    "TWO_GATE_DEPOLARISING = 0.0                     #Two gates not relevant\n",
    "NOISE = True                                    #Test with noise\n",
    "GATE_DEPTH = 1                                  #Gate depth\n",
    "ITERATIONS = 25  \n",
    "LIST_GATE_TYPES = ['x','y','sdg','s','z']   #List of gates considered in simulation  \n",
    "\n",
    "PI = math.pi\n",
    "\n",
    "SIMULATOR = Aer.get_backend('qasm_simulator')"
   ]
  },
  {
   "cell_type": "markdown",
   "metadata": {},
   "source": [
    "The expected number of measurements in the ground state is estimated, recalling that with probabilily SINGLE_GATE_DEPOLARISING / 2 the gate will no longer be in the ground state. "
   ]
  },
  {
   "cell_type": "code",
   "execution_count": 3,
   "metadata": {},
   "outputs": [],
   "source": [
    "#expected = (1 - SINGLE_GATE_DEPOLARISING /2 ) ** (GATE_DEPTH * gate_number) * (1 - MEASURE_NOISE)"
   ]
  },
  {
   "cell_type": "markdown",
   "metadata": {},
   "source": [
    "For each gate type we find the error."
   ]
  },
  {
   "cell_type": "code",
   "execution_count": 4,
   "metadata": {},
   "outputs": [
    {
     "name": "stdout",
     "output_type": "stream",
     "text": [
      "Running with 25 iterations\n",
      "processing qubit type x\n",
      "We expect to see a probability of 0.9950 measurements of the |1> state if one gate is used in transpiliation .\n",
      "With the x gate we saw the |1> state 0.9952 of the time\n",
      "The standard error was 0.0001\n",
      "\n",
      "processing qubit type y\n",
      "We expect to see a probability of 0.9851 measurements of the |1> state if one gate is used in transpiliation .\n",
      "With the y gate we saw the |1> state 0.9855 of the time\n",
      "The standard error was 0.0002\n",
      "\n",
      "processing qubit type sdg\n",
      "We expect to see a probability of 0.9851 measurements of the |0> state if one gate is used in transpiliation.\n",
      "With the sdg gate we saw the |0> state 0.9854 of the time\n",
      "The standard error was 0.0002\n",
      "\n",
      "processing qubit type s\n",
      "We expect to see a probability of 0.9851 measurements of the |0> state if one gate is used in transpiliation.\n",
      "With the s gate we saw the |0> state 0.9850 of the time\n",
      "The standard error was 0.0002\n",
      "\n",
      "processing qubit type z\n",
      "We expect to see a probability of 0.9851 measurements of the |0> state if one gate is used in transpiliation.\n",
      "With the z gate we saw the |0> state 0.9849 of the time\n",
      "The standard error was 0.0003\n",
      "\n"
     ]
    }
   ],
   "source": [
    "print(f'Running with {ITERATIONS} iterations')\n",
    "          \n",
    "for qubit_type in LIST_GATE_TYPES:\n",
    "    if qubit_type == 'x':\n",
    "        gates = 1\n",
    "    elif qubit_type in ['y', 'z', 's', 'sdg']:\n",
    "        gates = 3\n",
    "    elif qubit_type == 'h':\n",
    "        gates = 2\n",
    "    else:\n",
    "        raise Exception('Unexpected qubit type in list')             \n",
    "    expected = (1 - SINGLE_GATE_DEPOLARISING /2 ) ** (GATE_DEPTH * gates) * (1 - MEASURE_NOISE)\n",
    "    ground_state_list = []\n",
    "    for iterations in range(ITERATIONS):\n",
    "        qr = QuantumRegister(1,'code_qubit')     # One qubit\n",
    "        cr = ClassicalRegister(1,'syndrome_bit') # One Syndrome bit\n",
    "        qc = QuantumCircuit(qr,cr)\n",
    "    \n",
    "        for i in range(GATE_DEPTH):\n",
    "        # set up the circuit\n",
    "            if qubit_type == 'x':\n",
    "                qc.x(qr[0])\n",
    "            elif qubit_type == 'y':\n",
    "                qc.y(qr[0])\n",
    "            elif qubit_type == 'z':  \n",
    "                qc.z(qr[0])\n",
    "            elif qubit_type == 'h': \n",
    "                qc.h(qr[0])\n",
    "            elif qubit_type == 's':  \n",
    "                qc.s(qr[0])\n",
    "            elif qubit_type == 'sdg': \n",
    "                qc.sdg(qr[0])\n",
    "            elif qubit_type == 'rx': \n",
    "                qc.rx(PI, qr[0])\n",
    "            else:\n",
    "                raise Exception('Unexpected qubit type in list')\n",
    "        qc.measure(qr, cr)\n",
    "        qt = transpile(qc, basis_gates = BASIS_GATE_SET)\n",
    "        noise_model = get_noise(MEASURE_NOISE, SINGLE_GATE_DEPOLARISING, TWO_GATE_DEPOLARISING, \n",
    "                                    SINGLE_GATE_SET, TWO_GATE_SET)\n",
    "        if NOISE:\n",
    "            result = execute(qt, SIMULATOR, noise_model = noise_model, shots = SHOTS).result()\n",
    "        else:\n",
    "            result = execute(qt, SIMULATOR, shots = SHOTS).result() \n",
    "\n",
    "        counts = result.get_counts(qt)\n",
    "        if qubit_type in ['x', 'y', 'rx']:\n",
    "            ground_state = counts['1'] / SHOTS\n",
    "        elif qubit_type in ['z','s', 'sdg']:\n",
    "            ground_state = counts['0'] / SHOTS\n",
    "        ground_state_list.append(ground_state)\n",
    "    standard_deviation, standard_error = calculate_standard_error(ground_state_list)\n",
    "    mean = mean_of_list(ground_state_list)\n",
    "    print (f'processing qubit type {qubit_type}')\n",
    "    if qubit_type in ['x', 'y', 'rx']:\n",
    "        print(f'We expect to see a probability of {expected:.4f} measurements of the |1> state if one gate is used in transpiliation .')\n",
    "        print(f'With the {qubit_type} gate we saw the |1> state {mean:.4f} of the time')\n",
    "        print(f'The standard error was {standard_error:.4f}')\n",
    "    elif qubit_type in ['z','s', 'sdg']:\n",
    "        print(f'We expect to see a probability of {expected:.4f} measurements of the |0> state if one gate is used in transpiliation.')\n",
    "        print(f'With the {qubit_type} gate we saw the |0> state {mean:.4f} of the time')\n",
    "        print(f'The standard error was {standard_error:.4f}')      \n",
    "    else:\n",
    "        raise Exception('Unexpected qubit type in list')\n",
    "    print()"
   ]
  },
  {
   "cell_type": "code",
   "execution_count": 5,
   "metadata": {},
   "outputs": [
    {
     "data": {
      "image/png": "[encoded data removed]",
      "text/plain": [
       "<Figure size 322.092x144.48 with 1 Axes>"
      ]
     },
     "execution_count": 5,
     "metadata": {},
     "output_type": "execute_result"
    }
   ],
   "source": [
    "qc.draw(output='mpl', filename = 'Basic_single_qubit_error_circuit.jpg', fold=60)"
   ]
  },
  {
   "cell_type": "markdown",
   "metadata": {},
   "source": [
    " An example transpiled circuit is shown below."
   ]
  },
  {
   "cell_type": "code",
   "execution_count": 6,
   "metadata": {},
   "outputs": [
    {
     "data": {
      "image/png": "[encoded data removed]",
      "text/plain": [
       "<Figure size 442.492x144.48 with 1 Axes>"
      ]
     },
     "execution_count": 6,
     "metadata": {},
     "output_type": "execute_result"
    }
   ],
   "source": [
    "qt.draw(output='mpl', filename = 'Basic_single_qubit_error_transpiled_circuit.jpg', fold=60)"
   ]
  },
  {
   "cell_type": "code",
   "execution_count": null,
   "metadata": {},
   "outputs": [],
   "source": []
  }
 ],
 "metadata": {
  "kernelspec": {
   "display_name": "Python 3",
   "language": "python",
   "name": "python3"
  },
  "language_info": {
   "codemirror_mode": {
    "name": "ipython",
    "version": 3
   },
   "file_extension": ".py",
   "mimetype": "text/x-python",
   "name": "python",
   "nbconvert_exporter": "python",
   "pygments_lexer": "ipython3",
   "version": "3.8.10"
  }
 },
 "nbformat": 4,
 "nbformat_minor": 4
}
