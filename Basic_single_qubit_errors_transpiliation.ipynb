{
 "cells": [
  {
   "cell_type": "markdown",
   "metadata": {},
   "source": [
    "Single qubit errors - transpilation\n",
    "===========================\n",
    "\n",
    "This is a simulation of single qubit errors in Qiskit to verify transpiling and the depolarising and measurement noise model.  \n",
    "\n",
    "In the depolarising error channel in Qiskit the parameter p implies a probability p that a qubit changes to a completely mixed state.  When the qubit is measured then with probability p/2 it will no longer be in the ground state.  \n",
    "This was checked by applying the noise model to sequential X, Y, Z, H, S and SDG gates, measuring the result, and comparing with a calculation. \n",
    "\n",
    "The transpilation process maps each gate to an equivalent gate in the gate set for an Ion computer as follows\n",
    "\n",
    " - X -> Rx(Pi)\n",
    " - Y -> Rx(Pi/2) Ry(-Pi/2) Rx(Pi/2)\n",
    " - Z -> Rx(Pi/2) Ry(-Pi) Rx(-Pi/2)\n",
    " - H -> Rx(Pi) Ry(-Pi/2)\n",
    " - S -> Rx(Pi/2) Ry(-Pi/2) Rx(-Pi/2)\n",
    " - SDG -> Rx(-Pi/2) Ry(-Pi/2) Rx(Pi/2)\n",
    "\n",
    "Note - a global phase change has been ignored\n",
    "\n",
    "\n",
    "This is part of an MSc project on the Steane code.  Please see https://goldsmdn.github.io/ for full details."
   ]
  },
  {
   "cell_type": "markdown",
   "metadata": {},
   "source": [
    "Import the necessary function modules."
   ]
  },
  {
   "cell_type": "code",
   "execution_count": 1,
   "metadata": {},
   "outputs": [],
   "source": [
    "from qiskit import(\n",
    "  QuantumCircuit,\n",
    "  QuantumRegister,\n",
    "  ClassicalRegister,\n",
    "  execute,\n",
    "  Aer)\n",
    "\n",
    "from qiskit.providers.aer.noise import NoiseModel\n",
    "from qiskit.providers.aer.noise.errors import pauli_error, depolarizing_error\n",
    "from qiskit.compiler import transpile\n",
    "\n",
    "import math\n",
    "\n",
    "from helper_functions import get_noise"
   ]
  },
  {
   "cell_type": "markdown",
   "metadata": {},
   "source": [
    "Define constants so the process flow can be controlled from one place:"
   ]
  },
  {
   "cell_type": "code",
   "execution_count": 2,
   "metadata": {},
   "outputs": [],
   "source": [
    "# gate set for Ion computer noise model\n",
    "SINGLE_GATE_SET = ['id', 'ry', 'rx']\n",
    "TWO_GATE_SET = ['rxx']\n",
    "BASIS_GATE_SET = SINGLE_GATE_SET + TWO_GATE_SET\n",
    "\n",
    "SHOTS = 10000                                   #Number of shots to run \n",
    "MEASURE_NOISE = 0.0                             #Measurement noise\n",
    "SINGLE_GATE_DEPOLARISING = 0.01                 #Single gate depolarising. \n",
    "TWO_GATE_DEPOLARISING = 0.0                     #Two gates not relevant\n",
    "NOISE = True                                    #Test with noise\n",
    "GATE_DEPTH = 1                                  #Gate depth\n",
    "LIST_GATE_TYPES = ['h','x','y','z','s','sdg']   #List of gates considered in simulation  \n",
    "\n",
    "PI = math.pi\n",
    "\n",
    "SIMULATOR = Aer.get_backend('qasm_simulator')"
   ]
  },
  {
   "cell_type": "markdown",
   "metadata": {},
   "source": [
    "The expected number of measurements in the ground state is estimated, recalling that with probabilily SINGLE_GATE_DEPOLARISING / 2 the gate will no longer be in the ground state. "
   ]
  },
  {
   "cell_type": "code",
   "execution_count": 3,
   "metadata": {},
   "outputs": [],
   "source": [
    "expected = (SHOTS * (1 - SINGLE_GATE_DEPOLARISING /2 ) ** (GATE_DEPTH) * (1 - MEASURE_NOISE))"
   ]
  },
  {
   "cell_type": "markdown",
   "metadata": {},
   "source": [
    "For each gate type we find the error."
   ]
  },
  {
   "cell_type": "code",
   "execution_count": 4,
   "metadata": {},
   "outputs": [
    {
     "name": "stdout",
     "output_type": "stream",
     "text": [
      "With 10000 shots we expect to see 9950 measurements of the |0> ground state .\n",
      "With the sdg gate the simulated measurements in the ground state were {'0': 9865, '1': 135}\n"
     ]
    }
   ],
   "source": [
    "print(f'With {SHOTS} shots we expect to see {expected:.0f} measurements of the |0> ground state .')\n",
    "\n",
    "for qubit_type in LIST_GATE_TYPES:\n",
    "    qr = QuantumRegister(1,'code_qubit')     # One qubit\n",
    "    cr = ClassicalRegister(1,'syndrome_bit') # One Syndrome bit\n",
    "    qc = QuantumCircuit(qr,cr)\n",
    "    \n",
    "    for i in range(GATE_DEPTH):\n",
    "    # set up the circuit\n",
    "        if qubit_type == 'x':\n",
    "            qc.x(qr[0])\n",
    "        elif qubit_type == 'y':\n",
    "            qc.y(qr[0])\n",
    "        elif qubit_type == 'z':  \n",
    "            qc.z(qr[0])\n",
    "        elif qubit_type == 'h': \n",
    "            qc.h(qr[0])\n",
    "        elif qubit_type == 's':  \n",
    "            qc.s(qr[0])\n",
    "        elif qubit_type == 'sdg': \n",
    "            qc.sdg(qr[0])\n",
    "        elif qubit_type == 'rx': \n",
    "            qc.rx(PI, qr[0])\n",
    "        else:\n",
    "            raise Exception(\"Unexpected qubit type in list\")\n",
    "    qc.measure(qr, cr)\n",
    "    qt = transpile(qc, basis_gates = BASIS_GATE_SET)\n",
    "    noise_model = get_noise(MEASURE_NOISE, SINGLE_GATE_DEPOLARISING, TWO_GATE_DEPOLARISING, \n",
    "                                SINGLE_GATE_SET, TWO_GATE_SET)\n",
    "    if NOISE:\n",
    "        result = execute(qt, SIMULATOR, noise_model = noise_model, shots = SHOTS).result()\n",
    "    else:\n",
    "        result = execute(qt, SIMULATOR, shots = SHOTS).result() \n",
    "        \n",
    "    counts = result.get_counts(qt)\n",
    "    ground_state = counts['0']\n",
    "    print(f'With the {qubit_type} gate the simulated measurements in the ground state were {counts}')"
   ]
  },
  {
   "cell_type": "code",
   "execution_count": 5,
   "metadata": {},
   "outputs": [
    {
     "data": {
      "image/png": "[encoded data removed]",
      "text/plain": [
       "<Figure size 322.092x144.48 with 1 Axes>"
      ]
     },
     "execution_count": 5,
     "metadata": {},
     "output_type": "execute_result"
    }
   ],
   "source": [
    "qc.draw(output='mpl', filename = 'Basic_single_qubit_error_circuit.jpg', fold=60)"
   ]
  },
  {
   "cell_type": "markdown",
   "metadata": {},
   "source": [
    " An example transpiled circuit is shown below."
   ]
  },
  {
   "cell_type": "code",
   "execution_count": 6,
   "metadata": {},
   "outputs": [
    {
     "data": {
      "image/png": "[encoded data removed]",
      "text/plain": [
       "<Figure size 442.492x144.48 with 1 Axes>"
      ]
     },
     "execution_count": 6,
     "metadata": {},
     "output_type": "execute_result"
    }
   ],
   "source": [
    "qt.draw(output='mpl', filename = 'Basic_single_qubit_error_circuit_transpiled.jpg', fold=60)"
   ]
  }
 ],
 "metadata": {
  "kernelspec": {
   "display_name": "Python 3",
   "language": "python",
   "name": "python3"
  },
  "language_info": {
   "codemirror_mode": {
    "name": "ipython",
    "version": 3
   },
   "file_extension": ".py",
   "mimetype": "text/x-python",
   "name": "python",
   "nbconvert_exporter": "python",
   "pygments_lexer": "ipython3",
   "version": "3.8.10"
  }
 },
 "nbformat": 4,
 "nbformat_minor": 4
}
