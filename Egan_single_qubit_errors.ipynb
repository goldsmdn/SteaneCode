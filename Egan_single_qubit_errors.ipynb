{
 "cells": [
  {
   "cell_type": "markdown",
   "metadata": {},
   "source": [
    "Single qubit errors validated against Egan paper\n",
    "========================================\n",
    "\n",
    "This is a simulation of single qubit errors in an ion trap quantum computer to compare the Qiskit noise model with experiments by Egan [1].  The noise model will be used on a simulation of the Steane code.\n",
    "\n",
    "This simulation uses the randomised benchmark function from Qiskit to simulate Egan's characterization of single qubit errors.  A circuit is constructed with N-1 sequential random Clifford gates and a final Clifford gate that inverts the others.  In the circuit diagram below the Clifford gates are separated by a barrier.\n",
    "\n",
    "The circuit is transpiled into the native ion computer gate set before computing the noise.\n",
    "\n",
    "With no noise the qubit will always finish in the starting |0> ground state.  A simulation was run and the ground state population is shown plotted against the number of Clifford gates.  For comparison a calculation of the expected ground state population using a error per Clifford gate of 3.4(8)×10−4 as quoted by Egan is plotted.\n",
    "\n",
    "We use a depolarising error with a parameter which represents the chance that a X, Y, Z and I error occurs.  Since a Z and I error won't be detectable we have doubled Egan's stated error of 1.8(3)×10−4 per native Pauli gate to use 3.66 1.8(3)×10−4 as the depolarising error parameter.\n",
    "\n",
    "Egan shows two results for the fidelity per Clifford gate, an upper bound for the 1 ion chain, and a lower bound for the less accurate but more realistic 15 ion chain.  Egan's upper bound for the 1 ion chain is 0.990(3) and the lower bound from the 15 ion chain is 0.988(0).  The simulation shows 0.9877, slightly below Egan's lower band.  It should be noted that the simulations are random, and some noise is inevitable.  The single gate error is not a key parameter.  It is an order of magnitude less that the two gate error and is often neglected in simulations by other workers. \n",
    "\n",
    "The intercept on the y axis in our simulation is 0.995.  This is in agreement with Egan's results and shows that 0.046 is a reasonable parameter for the measure noise.\n",
    "\n",
    "[1] Egan L, Debroy DM, Noel C, Risinger A, Zhu D, Biswas D, et al. Fault-Tolerant Operation of a Quantum Error-Correction Code. arXiv Available from: http://arxiv.org/abs/2009.11482\n",
    "\n",
    "This is part of an MSc project on the Steane code.  Please see https://goldsmdn.github.io/ for full details."
   ]
  },
  {
   "cell_type": "markdown",
   "metadata": {},
   "source": [
    "Import the necessary function modules."
   ]
  },
  {
   "cell_type": "code",
   "execution_count": 1,
   "metadata": {},
   "outputs": [],
   "source": [
    "from qiskit import(\n",
    "    QuantumCircuit,\n",
    "    QuantumRegister,\n",
    "    ClassicalRegister,\n",
    "    execute,\n",
    "    Aer\n",
    "    )\n",
    "\n",
    "# Import the randomized benchmarking Function and other qiskits modules\n",
    "import qiskit.ignis.verification.randomized_benchmarking as rb\n",
    "from qiskit.providers.aer.noise import NoiseModel\n",
    "from qiskit.providers.aer.noise.errors import pauli_error, depolarizing_error\n",
    "from qiskit.compiler import transpile\n",
    "\n",
    "import random\n",
    "import matplotlib.pyplot as plt\n",
    "import numpy as np\n",
    "\n",
    "from helper_functions import (\n",
    "    get_noise, \n",
    "    mean_of_list,\n",
    "    calculate_standard_error\n",
    "    )"
   ]
  },
  {
   "cell_type": "markdown",
   "metadata": {},
   "source": [
    "Define constants so the process flow can be controlled from one place:"
   ]
  },
  {
   "cell_type": "code",
   "execution_count": 2,
   "metadata": {},
   "outputs": [],
   "source": [
    "SINGLE_GATE_SET = ['id', 'ry', 'rx']\n",
    "TWO_GATE_SET = ['rxx']\n",
    "BASIS_GATE_SET = SINGLE_GATE_SET + TWO_GATE_SET\n",
    "\n",
    "SHOTS = 10000                            #Number of shots to run \n",
    "ITERATIONS = 25                          #Number of iterations for each simulation\n",
    "MEASURE_NOISE = 0.0046                   #Measurement noise\n",
    "SINGLE_GATE_DEPOLARISING = 0.000366      #Parameter for single gate depolarising channel\n",
    "TWO_GATE_DEPOLARISING = 0.0              #Two gate noise not relevant\n",
    "SINGLE_CLIFFORD_GATE_NOISE = 0.000348    #Used for calculation\n",
    "NOISE = True                             #Test with noise?\n",
    "\n",
    "SIMULATION_GATE_DEPTH_LIST = [1, 3, 7, 11, 15, 19]  #Number of Clifford gate for simulation\n",
    "CALCULATION_GATE_DEPTH_LIST = [0, 4, 6, 8, 12, 16, 20]  #Number of Clifford gate for calculations\n",
    "\n",
    "SIMULATOR = Aer.get_backend('qasm_simulator')"
   ]
  },
  {
   "cell_type": "markdown",
   "metadata": {},
   "source": [
    "Set up circuits in a list."
   ]
  },
  {
   "cell_type": "code",
   "execution_count": 3,
   "metadata": {},
   "outputs": [],
   "source": [
    "# Generate randomised benchmark circuit \n",
    "rb_opts = {}\n",
    "#Number of Cliffords in the sequence\n",
    "rb_opts['length_vector'] = SIMULATION_GATE_DEPTH_LIST\n",
    "# Number of seeds (random sequences)\n",
    "rb_opts['nseeds'] = ITERATIONS\n",
    "rb_circs, xdata = rb.randomized_benchmarking_seq(**rb_opts)"
   ]
  },
  {
   "cell_type": "markdown",
   "metadata": {},
   "source": [
    "Draw an example of random circuit for eight Clifford gates."
   ]
  },
  {
   "cell_type": "code",
   "execution_count": 4,
   "metadata": {},
   "outputs": [
    {
     "data": {
      "image/png": "[encoded data removed]",
      "text/plain": [
       "<Figure size 1045.18x144.48 with 1 Axes>"
      ]
     },
     "execution_count": 4,
     "metadata": {},
     "output_type": "execute_result"
    }
   ],
   "source": [
    "rb_circs[0][1].draw(output = 'mpl', filename = 'Single_Clifford_gates_circuit.jpg', fold = 60)"
   ]
  },
  {
   "cell_type": "markdown",
   "metadata": {},
   "source": [
    "Transpile the circuit and draw the equivalent transpiled circuit."
   ]
  },
  {
   "cell_type": "code",
   "execution_count": 5,
   "metadata": {},
   "outputs": [],
   "source": [
    "qt = transpile(rb_circs[0][1], basis_gates = BASIS_GATE_SET)"
   ]
  },
  {
   "cell_type": "code",
   "execution_count": 6,
   "metadata": {},
   "outputs": [
    {
     "data": {
      "image/png": "[encoded data removed]",
      "text/plain": [
       "<Figure size 804.38x144.48 with 1 Axes>"
      ]
     },
     "execution_count": 6,
     "metadata": {},
     "output_type": "execute_result"
    }
   ],
   "source": [
    "qt.draw(output = 'mpl', filename = 'Single_Clifford_gates_circuit_transpiled.jpg', fold = 30)"
   ]
  },
  {
   "cell_type": "code",
   "execution_count": 7,
   "metadata": {},
   "outputs": [],
   "source": [
    "noise_model = get_noise(MEASURE_NOISE, SINGLE_GATE_DEPOLARISING, TWO_GATE_DEPOLARISING, SINGLE_GATE_SET, TWO_GATE_SET)"
   ]
  },
  {
   "cell_type": "code",
   "execution_count": 8,
   "metadata": {},
   "outputs": [
    {
     "name": "stdout",
     "output_type": "stream",
     "text": [
      "For 2 gates mean simulated ground state population probability is 0.9944\n",
      "The standard error is 0.0002\n",
      "For 4 gates mean simulated ground state population probability is 0.9932\n",
      "The standard error is 0.0002\n",
      "For 8 gates mean simulated ground state population probability is 0.9918\n",
      "The standard error is 0.0002\n",
      "For 12 gates mean simulated ground state population probability is 0.9899\n",
      "The standard error is 0.0002\n",
      "For 16 gates mean simulated ground state population probability is 0.9887\n",
      "The standard error is 0.0002\n",
      "For 20 gates mean simulated ground state population probability is 0.9870\n",
      "The standard error is 0.0002\n"
     ]
    }
   ],
   "source": [
    "# initialise lists for graphs\n",
    "mean_probability = []\n",
    "standard_error_list = []\n",
    "number_of_gates_simulation = []\n",
    "\n",
    "loop_number = 0\n",
    "for gate_depth in SIMULATION_GATE_DEPTH_LIST:\n",
    "    simulation_probability = []\n",
    "    for iteration in range(ITERATIONS):\n",
    "        qt = transpile(rb_circs[iteration][loop_number], basis_gates = BASIS_GATE_SET)\n",
    "        if NOISE:\n",
    "            result = execute(qt, SIMULATOR, noise_model=noise_model, shots=SHOTS).result()\n",
    "        else:\n",
    "            result = execute(qt, SIMULATOR, shots=SHOTS).result()     \n",
    "        counts = result.get_counts(qt)\n",
    "        probability = counts.get('0') / SHOTS\n",
    "        simulation_probability.append(probability)      \n",
    "    number_of_gates_simulation.append(gate_depth + 1)\n",
    "    # need to add one gate to allow for the reversal\n",
    "    mean = mean_of_list(simulation_probability)\n",
    "    mean_probability.append(mean)\n",
    "    standard_deviation, standard_error = calculate_standard_error(simulation_probability)\n",
    "    standard_error_list.append(standard_error)\n",
    "    true_gate_depth = (gate_depth + 1)    \n",
    "    print(f'For {true_gate_depth} gates mean simulated ground state population probability is {mean:.4f}')\n",
    "    print(f'The standard error is {standard_error:.4f}')\n",
    "    loop_number = loop_number + 1"
   ]
  },
  {
   "cell_type": "markdown",
   "metadata": {},
   "source": [
    "Calculations"
   ]
  },
  {
   "cell_type": "code",
   "execution_count": 9,
   "metadata": {},
   "outputs": [
    {
     "name": "stdout",
     "output_type": "stream",
     "text": [
      "For gate_depth 0\n",
      "The best fit line for Egan 1 ion chain is 0.9939 and for Egan 15 ion chain is 0.9951\n",
      "A calculation based on the number of Clifford gates gives 0.9954\n",
      "For gate_depth 4\n",
      "The best fit line for Egan 1 ion chain is 0.9932 and for Egan 15 ion chain is 0.9937\n",
      "A calculation based on the number of Clifford gates gives 0.9940\n",
      "For gate_depth 6\n",
      "The best fit line for Egan 1 ion chain is 0.9928 and for Egan 15 ion chain is 0.9930\n",
      "A calculation based on the number of Clifford gates gives 0.9933\n",
      "For gate_depth 8\n",
      "The best fit line for Egan 1 ion chain is 0.9925 and for Egan 15 ion chain is 0.9923\n",
      "A calculation based on the number of Clifford gates gives 0.9926\n",
      "For gate_depth 12\n",
      "The best fit line for Egan 1 ion chain is 0.9918 and for Egan 15 ion chain is 0.9909\n",
      "A calculation based on the number of Clifford gates gives 0.9913\n",
      "For gate_depth 16\n",
      "The best fit line for Egan 1 ion chain is 0.9910 and for Egan 15 ion chain is 0.9895\n",
      "A calculation based on the number of Clifford gates gives 0.9899\n",
      "For gate_depth 20\n",
      "The best fit line for Egan 1 ion chain is 0.9903 and for Egan 15 ion chain is 0.9881\n",
      "A calculation based on the number of Clifford gates gives 0.9885\n"
     ]
    }
   ],
   "source": [
    "theoretical_probability = []\n",
    "egan_one_ion_noise = []\n",
    "egan_fifteen_ion_noise = []\n",
    "number_of_gates_calculation = []\n",
    "\n",
    "for gate_depth in CALCULATION_GATE_DEPTH_LIST:\n",
    "    gate_noise = ((1 - SINGLE_CLIFFORD_GATE_NOISE) ** gate_depth) \n",
    "    theory = gate_noise * (1 - MEASURE_NOISE)  \n",
    "    egan_one_ion = 0.99388 - gate_depth * 0.000177\n",
    "    egan_fifteen_ion = 0.9951 - gate_depth * 0.000348\n",
    "    theoretical_probability.append(theory)\n",
    "    egan_one_ion_noise.append(egan_one_ion)\n",
    "    egan_fifteen_ion_noise.append(egan_fifteen_ion)\n",
    "    number_of_gates_calculation.append(gate_depth) \n",
    "    \n",
    "    print(f'For gate_depth {gate_depth}')  \n",
    "    print(f'The best fit line for Egan 1 ion chain is {egan_one_ion:.4f} and for Egan 15 ion chain is {egan_fifteen_ion:.4f}')\n",
    "    print(f'A calculation based on the number of Clifford gates gives {theory:.4f}')   "
   ]
  },
  {
   "cell_type": "markdown",
   "metadata": {},
   "source": [
    "Plot graph:"
   ]
  },
  {
   "cell_type": "code",
   "execution_count": 10,
   "metadata": {},
   "outputs": [
    {
     "data": {
      "image/png": "[encoded data removed]",
      "text/plain": [
       "<Figure size 432x288 with 1 Axes>"
      ]
     },
     "metadata": {
      "needs_background": "light"
     },
     "output_type": "display_data"
    }
   ],
   "source": [
    "#graph constants\n",
    "YMIN = 0.985\n",
    "YMAX = 1.000\n",
    "YTICK = 0.005\n",
    "\n",
    "#graph\n",
    "title_text = \"Ground state probabilty against number of Clifford Gates\"\n",
    "#plt.scatter(number_of_gates_simulation, simulation_probability, label = \"Simulation results\" )\n",
    "#plt.plot(number_of_gates_simulation, mean_probability, label = \"Simulated probabilty\" , color=\"blue\")\n",
    "plt.errorbar(number_of_gates_simulation, mean_probability, yerr = standard_error_list,\n",
    "              label = \"Simulated probability\" , color=\"blue\")\n",
    "plt.plot(number_of_gates_calculation, theoretical_probability, label = \"Calculation based on error per Clifford gate\" , color=\"orange\")\n",
    "plt.plot(number_of_gates_calculation, egan_one_ion_noise, label = \"Egan's upper bound for 1 ion chain noise\" , color=\"black\")\n",
    "plt.plot(number_of_gates_calculation, egan_fifteen_ion_noise, label = \"Egan's lower bound for 15 ion chain noise\" , color=\"red\")\n",
    "plt.title('Single qubit errors')\n",
    "plt.xlabel('Number of Clifford Gates')\n",
    "plt.ylabel('Ground state probability')  \n",
    "plt.legend()\n",
    "plt.ylim(YMIN, YMAX)\n",
    "plt.xticks(np.arange(0, 21, 4))\n",
    "plt.yticks(np.arange(YMIN, YMAX, YTICK))\n",
    "fname = \"Single_Clifford_gate_errors_graph.png\"\n",
    "plt.savefig(fname)"
   ]
  },
  {
   "attachments": {
    "Egan%20Figure%20S1.png": {
     "image/png": "[encoded data removed]"
    }
   },
   "cell_type": "markdown",
   "metadata": {},
   "source": [
    "In the graph above the offset corresponds to the state preparation and measurement (SPAM) error of 0.0046 reported by Egan.\n",
    "\n",
    "The slope gives the error per Clifford gate.  Since the error is small the graph is approximated linear.\n",
    "\n",
    "For comparise actual Egan's results are shown below.\n",
    "\n",
    "![Egan%20Figure%20S1.png](attachment:Egan%20Figure%20S1.png)"
   ]
  }
 ],
 "metadata": {
  "kernelspec": {
   "display_name": "Python 3",
   "language": "python",
   "name": "python3"
  },
  "language_info": {
   "codemirror_mode": {
    "name": "ipython",
    "version": 3
   },
   "file_extension": ".py",
   "mimetype": "text/x-python",
   "name": "python",
   "nbconvert_exporter": "python",
   "pygments_lexer": "ipython3",
   "version": "3.8.10"
  }
 },
 "nbformat": 4,
 "nbformat_minor": 4
}
