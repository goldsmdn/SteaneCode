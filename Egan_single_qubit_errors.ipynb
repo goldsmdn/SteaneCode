{
 "cells": [
  {
   "cell_type": "markdown",
   "metadata": {},
   "source": [
    "Single qubit errors validated against Egan paper\n",
    "========================================\n",
    "\n",
    "This is a simulation of single qubit errors in an ion trap quantum computer to compare a qiskit noise model with experiments by Egan [1].  The noise model will be used on our simulation of the Steane code.\n",
    "\n",
    "This simulation uses the randomised benchmark function from qiskit to simulate Egan's characterization of single qubit errors.  A circuit is constructed with N-1 sequential random Clifford gates and a final Clifford gate that inverts the others.  In the circuit diagram below the Clifford gates are separated by a barrier.\n",
    "\n",
    "With no noise the qubit will always finish in the starting |0> ground state.  A simulation was run and the ground state population is shown plotted against the number of Clifford gates.  For comparison a calculation of the expected ground state population using a error per Clifford gate of 3.4(8)×10−4 as quoted by Egan is shown.\n",
    "\n",
    "There are two caveats to this simulation.\n",
    "\n",
    "Firstly the Clifford gate composition provided by qiskit decomposes each Clifford gate into native qiskit gates including the Pauli gates, X, Y, Z, the Hadamard, the S or Phase gate and it's inverse SDG.  Each Clifford gate is a composition of up to four gates, for example, XSHS.  There are an average of around 2.4 of the native gates for each Clifford gate. Egan used a different native gate set with gates like X/2 and had an average of only 1.875 gates for each Clifford gate.  Since the quiskit simulation has more gates there are more chances for error and a lower ground state population is expected.   \n",
    "\n",
    "Secondly we use a depolarising error with a parameter which represents the chance that a X, Y, Z and I error occurs.  Since a Z and I error won't be detectable we have doubled Egan's stated error of 1.8(3)×10−4 per native Pauli gate to use as the depolarising error parameter.\n",
    "\n",
    "Our simulation shows results broadly aligned with Egan.  The single gate error is much less that the two gate error and is neglected in some simulations.  On this basis our error model is reasonable.\n",
    "\n",
    "[1] Egan L, Debroy DM, Noel C, Risinger A, Zhu D, Biswas D, et al. Fault-Tolerant Operation of a Quantum Error-Correction Code. arXiv Available from: http://arxiv.org/abs/2009.11482\n",
    "\n",
    "This is part of an MSc project on the Steane code.  Please see https://goldsmdn.github.io/ for full details."
   ]
  },
  {
   "cell_type": "markdown",
   "metadata": {},
   "source": [
    "Import the necessary function modules."
   ]
  },
  {
   "cell_type": "code",
   "execution_count": 1,
   "metadata": {},
   "outputs": [],
   "source": [
    "from qiskit import(\n",
    "  QuantumCircuit,\n",
    "  QuantumRegister,\n",
    "  ClassicalRegister,\n",
    "  execute,\n",
    "  Aer)\n",
    "\n",
    "from qiskit.quantum_info import Clifford\n",
    "\n",
    "# Import the randomized benchmarking Function\n",
    "import qiskit.ignis.verification.randomized_benchmarking as rb\n",
    "\n",
    "from qiskit.providers.aer.noise import NoiseModel\n",
    "from qiskit.providers.aer.noise.errors import pauli_error, depolarizing_error\n",
    "\n",
    "import random\n",
    "import matplotlib.pyplot as plt\n",
    "import numpy as np"
   ]
  },
  {
   "cell_type": "markdown",
   "metadata": {},
   "source": [
    "Define constants so the process flow can be controlled from one place:"
   ]
  },
  {
   "cell_type": "code",
   "execution_count": 2,
   "metadata": {},
   "outputs": [],
   "source": [
    "SHOTS = 10000                            #Number of shots to run \n",
    "ITERATIONS = 25                          #Number of iterations for each simulation\n",
    "MEASURE_NOISE = 0.0046                   #Measurement noise\n",
    "SINGLE_GATE_DEPOLARISING = 0.000366      #Parameter for depolarising channel\n",
    "SINGLE_CLIFFORD_GATE_NOISE = 0.000348    #Used to calculate theory \n",
    "NOISE = True                             #Test with noise?\n",
    "\n",
    "GATE_LIST = [1, 3, 7, 11, 15, 19]        #Number of Clifford gate to be simulated\n",
    "                                         # one more reversal gate is automaticaly added\n",
    "\n",
    "SIMULATOR = Aer.get_backend('qasm_simulator')"
   ]
  },
  {
   "cell_type": "code",
   "execution_count": 3,
   "metadata": {},
   "outputs": [],
   "source": [
    "# Generate randomised benchmark circuit \n",
    "rb_opts = {}\n",
    "#Number of Cliffords in the sequence\n",
    "rb_opts['length_vector'] = GATE_LIST\n",
    "# Number of seeds (random sequences)\n",
    "rb_opts['nseeds'] = ITERATIONS\n",
    "rb_circs, xdata = rb.randomized_benchmarking_seq(**rb_opts)"
   ]
  },
  {
   "cell_type": "markdown",
   "metadata": {},
   "source": [
    "Draw a random circuit for four Clifford gates."
   ]
  },
  {
   "cell_type": "code",
   "execution_count": 4,
   "metadata": {},
   "outputs": [
    {
     "data": {
      "image/png": "[encoded data removed]",
      "text/plain": [
       "<Figure size 1767.58x144.48 with 1 Axes>"
      ]
     },
     "execution_count": 4,
     "metadata": {},
     "output_type": "execute_result"
    }
   ],
   "source": [
    "rb_circs[0][2].draw(output='mpl', filename = 'auto_qubit.jpg', fold=60)"
   ]
  },
  {
   "cell_type": "code",
   "execution_count": 5,
   "metadata": {},
   "outputs": [],
   "source": [
    "def get_noise(p_meas,p_gate):\n",
    "\n",
    "    error_meas = pauli_error([('X',p_meas), ('I', 1 - p_meas)])\n",
    "    error_gate1 = depolarizing_error(p_gate, 1)\n",
    "\n",
    "    noise_model = NoiseModel()\n",
    "    noise_model.add_all_qubit_quantum_error(error_meas, \"measure\") # measurement error is applied to measurements\n",
    "    noise_model.add_all_qubit_quantum_error(error_gate1, ['x', 'y', 'z', 'h', 's', 'sdg'])  # single qubit gate errors\n",
    "\n",
    "    return noise_model"
   ]
  },
  {
   "cell_type": "code",
   "execution_count": 6,
   "metadata": {},
   "outputs": [],
   "source": [
    "noise_model = get_noise(MEASURE_NOISE,SINGLE_GATE_DEPOLARISING)"
   ]
  },
  {
   "cell_type": "code",
   "execution_count": 8,
   "metadata": {},
   "outputs": [
    {
     "name": "stdout",
     "output_type": "stream",
     "text": [
      " For 2 gates the mean ground state population probability simulated is 0.9947 and the calculated number is 0.9947\n",
      " For 4 gates the mean ground state population probability simulated is 0.9939 and the calculated number is 0.9940\n",
      " For 8 gates the mean ground state population probability simulated is 0.9923 and the calculated number is 0.9926\n",
      " For 12 gates the mean ground state population probability simulated is 0.9904 and the calculated number is 0.9913\n",
      " For 16 gates the mean ground state population probability simulated is 0.9888 and the calculated number is 0.9899\n",
      " For 20 gates the mean ground state population probability simulated is 0.9873 and the calculated number is 0.9885\n"
     ]
    }
   ],
   "source": [
    "simulation_probability = []\n",
    "theoretical_probability = []\n",
    "mean_probability = []\n",
    "\n",
    "number_of_gates_scatter = []\n",
    "number_of_gates_plot = []\n",
    "\n",
    "loop_number = 0\n",
    "for gate_depth in GATE_LIST:\n",
    "    accumulator = 0\n",
    "    for iteration in range(ITERATIONS):\n",
    "        if NOISE:\n",
    "            result = execute(rb_circs[iteration][loop_number], SIMULATOR, noise_model=noise_model, shots=SHOTS).result()\n",
    "        else:\n",
    "            result = execute(rb_circs[iteration][loop_number], SIMULATOR, shots=SHOTS).result()     \n",
    "        counts = result.get_counts(rb_circs[iteration][loop_number])\n",
    "        number_of_gates_scatter.append(gate_depth + 1)\n",
    "        # need to add one gate to allow for the reversal\n",
    "        probability = counts.get('0') / SHOTS\n",
    "        simulation_probability.append(probability)\n",
    "        accumulator = accumulator + probability\n",
    "    mean = accumulator / ITERATIONS\n",
    "    \n",
    "    exponent = (gate_depth + 1) \n",
    "    gate_noise = ((1 - SINGLE_CLIFFORD_GATE_NOISE) ** exponent) \n",
    "    theory = gate_noise * (1 - MEASURE_NOISE)        \n",
    "    theoretical_probability.append(theory)\n",
    "    number_of_gates_plot.append(gate_depth + 1)     \n",
    "    print(f' For {gate_depth + 1} gates the mean simulated ground state population probability simulated is {mean:.4f} and the calculated probability is {theory:.4f}')\n",
    "    mean_probability.append(mean)\n",
    "    loop_number = loop_number + 1"
   ]
  },
  {
   "cell_type": "markdown",
   "metadata": {},
   "source": [
    "Plot graph:"
   ]
  },
  {
   "cell_type": "code",
   "execution_count": 9,
   "metadata": {},
   "outputs": [
    {
     "data": {
      "image/png": "[encoded data removed]",
      "text/plain": [
       "<Figure size 432x288 with 1 Axes>"
      ]
     },
     "metadata": {
      "needs_background": "light"
     },
     "output_type": "display_data"
    }
   ],
   "source": [
    "#graph constants\n",
    "YMIN = 0.985\n",
    "YMAX = 1.000\n",
    "YTICK = 0.005\n",
    "\n",
    "#graph\n",
    "title_text = \"Ground state probabilty against number of Clifford Gates\"\n",
    "plt.scatter(number_of_gates_scatter, simulation_probability, label = \"Simulation results\" )\n",
    "plt.plot(number_of_gates_plot, mean_probability, label = \"Mean probability for simulation\" , color=\"blue\")\n",
    "plt.plot(number_of_gates_plot, theoretical_probability, label = \"Calculation based on error per Clifford gate\" , color=\"orange\")\n",
    "plt.title('Single qubit errors')\n",
    "plt.xlabel('Number of Clifford Gates')\n",
    "plt.ylabel('Ground state probability')  \n",
    "plt.legend()\n",
    "plt.ylim(YMIN, YMAX)\n",
    "plt.xticks(np.arange(0, 21, 4))\n",
    "plt.yticks(np.arange(YMIN, YMAX, YTICK))\n",
    "fname = \"single_qubit_errors.png\"\n",
    "plt.savefig(fname)"
   ]
  },
  {
   "cell_type": "markdown",
   "metadata": {},
   "source": [
    "In the graph above the offset corresponds to the state preparation and measurement (SPAM) error of 0.0046 reported by Egan.\n",
    "\n",
    "The slope gives the error per Clifford gate.  Since this is small the graph is approximated linear."
   ]
  }
 ],
 "metadata": {
  "kernelspec": {
   "display_name": "Python 3",
   "language": "python",
   "name": "python3"
  },
  "language_info": {
   "codemirror_mode": {
    "name": "ipython",
    "version": 3
   },
   "file_extension": ".py",
   "mimetype": "text/x-python",
   "name": "python",
   "nbconvert_exporter": "python",
   "pygments_lexer": "ipython3",
   "version": "3.8.3"
  }
 },
 "nbformat": 4,
 "nbformat_minor": 4
}
