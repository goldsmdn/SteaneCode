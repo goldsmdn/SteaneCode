{
 "cells": [
  {
   "cell_type": "markdown",
   "metadata": {},
   "source": [
    "Two qubit errors validated against Egan paper\n",
    "===============\n",
    "\n",
    "This is a simulation of two qubit errors in an ion trap quantum computer to compare a qiskit noise model with experiments by Egan [1].  The noise model will be used on our simulation of the Steane code.\n",
    "\n",
    "Our simulation shows results broadly aligned with Egan.  \n",
    "\n",
    "[1] Egan L, Debroy DM, Noel C, Risinger A, Zhu D, Biswas D, et al. Fault-Tolerant Operation of a Quantum Error-Correction Code. arXiv Available from: http://arxiv.org/abs/2009.11482\n",
    "\n",
    "This is part of an MSc project on the Steane code.  Please see https://goldsmdn.github.io/ for full details."
   ]
  },
  {
   "cell_type": "markdown",
   "metadata": {},
   "source": [
    "Import the necessary function modules."
   ]
  },
  {
   "cell_type": "code",
   "execution_count": 1,
   "metadata": {},
   "outputs": [],
   "source": [
    "from qiskit import(\n",
    "  QuantumCircuit,\n",
    "  QuantumRegister,\n",
    "  ClassicalRegister,\n",
    "  execute,\n",
    "  Aer)\n",
    "\n",
    "from qiskit.providers.aer.noise import NoiseModel\n",
    "from qiskit.providers.aer.noise.errors import pauli_error, depolarizing_error\n",
    "from qiskit.visualization import plot_histogram\n",
    "\n",
    "import math\n",
    "import matplotlib.pyplot as plt\n",
    "import numpy as np"
   ]
  },
  {
   "cell_type": "markdown",
   "metadata": {},
   "source": [
    "Define constants so the process flow can be controlled from one place:"
   ]
  },
  {
   "cell_type": "code",
   "execution_count": 2,
   "metadata": {},
   "outputs": [],
   "source": [
    "SHOTS = 100000                           #Number of shots to run \n",
    "MEASURE_NOISE = 0.0046                   #Measurement noise not relevant\n",
    "SINGLE_GATE_DEPOLARISING = 0.0           #Single gate noise   \n",
    "TWO_GATE_DEPOLARISING = 0.0102           #Two gate noise\n",
    "NOISE = True                             #Test with noise\n",
    "GATES_REVERSE = [2, 4, 6, 8, 10, 12, 14, 16]               \n",
    "GATES_NO_REVERSE = [8, 16]\n",
    "PI = math.pi\n",
    "\n",
    "SIMULATOR = Aer.get_backend('qasm_simulator')"
   ]
  },
  {
   "cell_type": "markdown",
   "metadata": {},
   "source": [
    "Define the noise model"
   ]
  },
  {
   "cell_type": "code",
   "execution_count": 3,
   "metadata": {},
   "outputs": [],
   "source": [
    "def get_noise(p_meas,s_gate,t_gate):\n",
    "\n",
    "    error_meas = pauli_error([('X',p_meas), ('I', 1 - p_meas)])\n",
    "    error_gate1 = depolarizing_error(s_gate, 1)\n",
    "    error_gate2 = depolarizing_error(t_gate, 1)\n",
    "    error_gate3 = error_gate2.tensor(error_gate2)\n",
    "\n",
    "    noise_model = NoiseModel()\n",
    "    noise_model.add_all_qubit_quantum_error(error_meas, 'measure') # measurement error is applied to measurements\n",
    "    noise_model.add_all_qubit_quantum_error(error_gate1, ['x', 'y', 'z', 'h', 's', 'sdg'])  # single qubit gate errors\n",
    "    noise_model.add_all_qubit_quantum_error(error_gate3, ['cx', 'rxx', 'cz']) # two qubit gate error is applied to cx gates\n",
    "\n",
    "    return noise_model"
   ]
  },
  {
   "cell_type": "markdown",
   "metadata": {},
   "source": [
    "Qubit 1 and Qubit 2 will both be unchanged with probability (1-p).  Both Qbit 1 and Qbit 2 will be unchanged with probability (1-p) ^ 2 which is close to 1-2p for small p.  When the qubits are changed then half the time this won't be detected by a projective measurement.  So the probability of the ground state after d gate is close to (1 - p) ^ d."
   ]
  },
  {
   "cell_type": "markdown",
   "metadata": {},
   "source": [
    "We simulate for both reversals and no reversals."
   ]
  },
  {
   "cell_type": "code",
   "execution_count": 4,
   "metadata": {},
   "outputs": [
    {
     "name": "stdout",
     "output_type": "stream",
     "text": [
      "For 2 gates with reversal simulated mean ground state probability is 0.9683. Calculated probability is 0.9752\n",
      "For 4 gates with reversal simulated mean ground state probability is 0.9452. Calculated probability is 0.9554\n",
      "For 6 gates with reversal simulated mean ground state probability is 0.9251. Calculated probability is 0.9360\n",
      "For 8 gates with reversal simulated mean ground state probability is 0.9065. Calculated probability is 0.9170\n",
      "For 10 gates with reversal simulated mean ground state probability is 0.8856. Calculated probability is 0.8984\n",
      "For 12 gates with reversal simulated mean ground state probability is 0.8660. Calculated probability is 0.8802\n",
      "For 14 gates with reversal simulated mean ground state probability is 0.8488. Calculated probability is 0.8623\n",
      "For 16 gates with reversal simulated mean ground state probability is 0.8301. Calculated probability is 0.8448\n",
      "For 8 gates with no reversal simulated mean ground state probability is 0.8967. Calculated probability is 0.9170\n",
      "For 16 gates with no reversal simulated mean ground state probability is 0.8133. Calculated probability is 0.8448\n"
     ]
    }
   ],
   "source": [
    "simulation_probability_reverse = []\n",
    "simulation_probability_no_reverse = []\n",
    "theoretical_probability_reverse = []\n",
    "theoretical_probability_no_reverse = []\n",
    "gate_depth_plot_reverse = []\n",
    "gate_depth_plot_no_reverse = []\n",
    "reverse_cases = [True, False]\n",
    "\n",
    "for reverse in reverse_cases:\n",
    "    if reverse:\n",
    "        gates = GATES_REVERSE\n",
    "    else:\n",
    "        gates = GATES_NO_REVERSE\n",
    "\n",
    "    for gate_depth in gates:\n",
    "        qr = QuantumRegister(2,'code_qubit')     # Two qubits\n",
    "        cr = ClassicalRegister(2,'syndrome_bit') # two Syndrome bit\n",
    "        qc = QuantumCircuit(qr,cr)\n",
    "        qc.reset(qr[0])\n",
    "        qc.reset(qr[1])\n",
    "        for i in range(gate_depth):\n",
    "            #if reversals apply XX gate if gate number is odd or inverse otherwise\n",
    "            if i % 2 == 0:\n",
    "                qc.rxx(PI/4,qr[0],qr[1])\n",
    "            else:\n",
    "                if reverse:\n",
    "                    qc.rxx(-PI/4,qr[0],qr[1])\n",
    "                else:\n",
    "                    qc.rxx(PI/4,qr[0],qr[1])\n",
    "\n",
    "        qc.measure(qr, cr)\n",
    "        noise_model = get_noise(MEASURE_NOISE,SINGLE_GATE_DEPOLARISING,TWO_GATE_DEPOLARISING)\n",
    "        if NOISE:\n",
    "            result = execute(qc, SIMULATOR, noise_model=noise_model, shots=SHOTS).result()\n",
    "        else:\n",
    "            result = execute(qc, SIMULATOR, shots=SHOTS).result()     \n",
    "        counts = result.get_counts(qc)\n",
    "        probability = counts.get('00') / SHOTS\n",
    "        expected = (1 - TWO_GATE_DEPOLARISING)** gate_depth * (1 - MEASURE_NOISE)\n",
    "        if reverse:\n",
    "            theoretical_probability_reverse.append(expected)\n",
    "            simulation_probability_reverse.append(probability)\n",
    "            gate_depth_plot_reverse.append(gate_depth)\n",
    "            print(f'For {gate_depth} gates with reversal simulated mean ground state probability is {probability:.4f}. Calculated probability is {expected:.4f}')\n",
    "        else:\n",
    "            theoretical_probability_no_reverse.append(expected)\n",
    "            simulation_probability_no_reverse.append(probability)\n",
    "            gate_depth_plot_no_reverse.append(gate_depth)\n",
    "            print(f'For {gate_depth} gates with no reversal simulated mean ground state probability is {probability:.4f}. Calculated probability is {expected:.4f}')     "
   ]
  },
  {
   "cell_type": "code",
   "execution_count": 5,
   "metadata": {},
   "outputs": [
    {
     "data": {
      "image/png": "[encoded data removed]",
      "text/plain": [
       "<Figure size 1345.49x204.68 with 1 Axes>"
      ]
     },
     "execution_count": 5,
     "metadata": {},
     "output_type": "execute_result"
    }
   ],
   "source": [
    "qc.draw(output='mpl')"
   ]
  },
  {
   "cell_type": "code",
   "execution_count": 6,
   "metadata": {},
   "outputs": [
    {
     "data": {
      "image/png": "[encoded data removed]",
      "text/plain": [
       "<Figure size 432x288 with 1 Axes>"
      ]
     },
     "metadata": {
      "needs_background": "light"
     },
     "output_type": "display_data"
    }
   ],
   "source": [
    "#graph constants\n",
    "YMIN = 0.75\n",
    "YMAX = 1.000\n",
    "YTICK = 0.05\n",
    "\n",
    "#graph\n",
    "title_text = \"Ground state probabilty against number of Clifford Gates\"\n",
    "plt.scatter(gate_depth_plot_no_reverse, simulation_probability_no_reverse, label = \"Simulation results no reversal\" )\n",
    "plt.scatter(gate_depth_plot_reverse, simulation_probability_reverse, label = \"Simulation results reversal\" )\n",
    "#plt.plot(gate_depth_plot_no_reverse, theoretical_probability_no_reverse, label = \"Result of calculation\" , color=\"orange\")\n",
    "plt.plot(gate_depth_plot_reverse, theoretical_probability_reverse, label = \"Result of calculation\" , color=\"orange\")\n",
    "plt.title('Single qubit errors')\n",
    "plt.xlabel('Number of Clifford Gates')\n",
    "plt.ylabel('Ground state probability')  \n",
    "plt.legend()\n",
    "plt.ylim(YMIN, YMAX)\n",
    "plt.xticks(np.arange(0, 20, 4))\n",
    "plt.yticks(np.arange(YMIN, YMAX, YTICK))\n",
    "fname = \"single_qubit_errors.png\"\n",
    "plt.savefig(fname)"
   ]
  }
 ],
 "metadata": {
  "kernelspec": {
   "display_name": "Python 3",
   "language": "python",
   "name": "python3"
  },
  "language_info": {
   "codemirror_mode": {
    "name": "ipython",
    "version": 3
   },
   "file_extension": ".py",
   "mimetype": "text/x-python",
   "name": "python",
   "nbconvert_exporter": "python",
   "pygments_lexer": "ipython3",
   "version": "3.8.3"
  }
 },
 "nbformat": 4,
 "nbformat_minor": 4
}
