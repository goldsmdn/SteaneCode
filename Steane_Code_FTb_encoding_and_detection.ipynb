{
 "cells": [
  {
   "cell_type": "markdown",
   "id": "d8e233c4",
   "metadata": {},
   "source": [
    "Steane Code FTb encoding and detection\n",
    "================================= \n",
    "\n",
    "1. Set up fault tolerant logical zero using method b for Steane code based on the parity matrix in the book by Nielsen MA, Chuang IL. Quantum Computation and Quantum Information, 10th Anniversary Edition. Cambridge University Press; 2016. p. 474\n",
    "\n",
    "2. Set up fault tolerant ancilla as also described in Nielsen and Chuang.\n",
    "\n",
    "3. Carry out the error correction in software. \n",
    "4. Not currently feasible as needs 2* (7 + 6 * 4) = 62 qubits"
   ]
  },
  {
   "cell_type": "code",
   "execution_count": 1,
   "id": "227741f7",
   "metadata": {},
   "outputs": [],
   "source": [
    "from qiskit import(\n",
    "    QuantumCircuit,\n",
    "    QuantumRegister,\n",
    "    ClassicalRegister,\n",
    "    execute,\n",
    "    Aer\n",
    "    )\n",
    "\n",
    "from qiskit.providers.aer.noise import NoiseModel\n",
    "from qiskit.providers.aer.noise.errors import pauli_error, depolarizing_error\n",
    "\n",
    "from circuits import SteaneCodeLogicalQubit\n",
    "\n",
    "from helper_functions import (\n",
    "    get_noise, \n",
    "    correct_qubit, \n",
    "    string_reverse, \n",
    "    process_FT_results\n",
    "    )"
   ]
  },
  {
   "cell_type": "code",
   "execution_count": 2,
   "id": "25da3aef",
   "metadata": {},
   "outputs": [],
   "source": [
    "SINGLE_GATE_ERRORS = ['x', 'y', 'z', 'h', 's', 'sdg']\n",
    "TWO_GATE_ERRORS = ['cx', 'cz']\n",
    "\n",
    "QUBIT_LIST = [2,4,5]\n",
    "\n",
    "ANC_ZERO = '0000'\n",
    "ANC_ONE = '0001'\n",
    "ANCILLA_TYPES = 2\n",
    "ANCILLA_QUBITS = 3\n",
    "ANCILLA_MEASUREMENT_REPEATS = 3\n",
    "DATA_MEASUREMENT_REPEATS = 3\n",
    "DATA_MEAS_QUBITS_B = 7\n",
    "DATA_MEAS_START = ANCILLA_TYPES * ANCILLA_QUBITS * ANCILLA_MEASUREMENT_REPEATS\n",
    "\n",
    "DATA_MEAS_QUBITS = 1\n",
    "DATA_START_B = DATA_MEAS_START + (DATA_MEAS_QUBITS_B * DATA_MEASUREMENT_REPEATS)\n",
    "\n",
    "TESTING = False                          #Test by applying and X or Z error to one of the qubits\n",
    "TEST_X_QUBIT = 0                         #Qbit to set bit flip- Starts at zero.\n",
    "TEST_X_LOGICAL = 0                       #logical Qbit to set bit flip- Starts at zero.\n",
    "TEST_Z_QUBIT = 0                         #Qbit to phase flip- Starts at zero.\n",
    "TEST_Z_LOGICAL = 0                       #logical Qbit to set phase flip- Starts at zero.\n",
    "\n",
    "NOISE = False                            #Test with noise\n",
    "SHOTS = 1000                             #Number of shots to run    \n",
    "MEASURE_NOISE = 0.0046                   #Measurement noise not relevant\n",
    "SINGLE_GATE_DEPOLARISING = 0.000366      #Single gate noise   \n",
    "TWO_GATE_DEPOLARISING = 0.0204\n",
    "FACTOR = 1\n",
    "SIMULATOR = Aer.get_backend('qasm_simulator')\n",
    "SPACE = ' '\n",
    "DATA_QUBITS = 7"
   ]
  },
  {
   "cell_type": "code",
   "execution_count": 3,
   "id": "fefe3099",
   "metadata": {},
   "outputs": [],
   "source": [
    "parity_check_matrix = ['0001111',\n",
    "                       '0110011',\n",
    "                       '1010101'\n",
    "                      ]"
   ]
  },
  {
   "cell_type": "code",
   "execution_count": 4,
   "id": "89985a74",
   "metadata": {},
   "outputs": [],
   "source": [
    "codewords = ['0000000',\n",
    "             '1010101',\n",
    "             '0110011',\n",
    "             '1100110',\n",
    "             '0001111',\n",
    "             '1011010',\n",
    "             '0111100',\n",
    "             '1101001'\n",
    "            ]"
   ]
  },
  {
   "cell_type": "code",
   "execution_count": 5,
   "id": "ae2fbcd4",
   "metadata": {},
   "outputs": [],
   "source": [
    "if NOISE:\n",
    "    noise_model = get_noise(MEASURE_NOISE * FACTOR, SINGLE_GATE_DEPOLARISING * FACTOR, \n",
    "                            TWO_GATE_DEPOLARISING * FACTOR, SINGLE_GATE_ERRORS, \n",
    "                            TWO_GATE_ERRORS )"
   ]
  },
  {
   "cell_type": "code",
   "execution_count": 6,
   "id": "1de82f08",
   "metadata": {},
   "outputs": [
    {
     "ename": "ValueError",
     "evalue": "Can't set up fault tolerant ancilla with two logical qubits due to memory size restrictions",
     "output_type": "error",
     "traceback": [
      "\u001b[1;31m---------------------------------------------------------------------------\u001b[0m",
      "\u001b[1;31mValueError\u001b[0m                                Traceback (most recent call last)",
      "\u001b[1;32m<ipython-input-6-18461e34fbc4>\u001b[0m in \u001b[0;36m<module>\u001b[1;34m\u001b[0m\n\u001b[1;32m----> 1\u001b[1;33m qubit = SteaneCodeLogicalQubit(2, parity_check_matrix, codewords, \n\u001b[0m\u001b[0;32m      2\u001b[0m                                    \u001b[0mancilla\u001b[0m \u001b[1;33m=\u001b[0m \u001b[1;32mTrue\u001b[0m\u001b[1;33m,\u001b[0m \u001b[0mfault_tolerant_b\u001b[0m \u001b[1;33m=\u001b[0m \u001b[1;32mTrue\u001b[0m\u001b[1;33m,\u001b[0m\u001b[1;33m\u001b[0m\u001b[1;33m\u001b[0m\u001b[0m\n\u001b[0;32m      3\u001b[0m                                    \u001b[0mfault_tolerant_ancilla\u001b[0m \u001b[1;33m=\u001b[0m \u001b[1;32mTrue\u001b[0m\u001b[1;33m,\u001b[0m \u001b[0mancilla_rounds\u001b[0m \u001b[1;33m=\u001b[0m \u001b[1;36m3\u001b[0m\u001b[1;33m,\u001b[0m\u001b[1;33m\u001b[0m\u001b[1;33m\u001b[0m\u001b[0m\n\u001b[0;32m      4\u001b[0m                                    \u001b[0mdata_rounds\u001b[0m \u001b[1;33m=\u001b[0m \u001b[1;36m3\u001b[0m\u001b[1;33m\u001b[0m\u001b[1;33m\u001b[0m\u001b[0m\n\u001b[0;32m      5\u001b[0m                                   )\n",
      "\u001b[1;32m~\\Desktop\\SteaneCode\\circuits.py\u001b[0m in \u001b[0;36m__init__\u001b[1;34m(self, d, parity_check_matrix, codewords, ancilla, extend_ancilla, fault_tolerant_b, fault_tolerant_c, fault_tolerant_ancilla, ancilla_rounds, data_rounds)\u001b[0m\n\u001b[0;32m     64\u001b[0m                 \u001b[1;32mraise\u001b[0m \u001b[0mValueError\u001b[0m\u001b[1;33m(\u001b[0m\u001b[1;34m\"Can't set up extra ancilla with two logical qubits due to memory size restrictions\"\u001b[0m\u001b[1;33m)\u001b[0m\u001b[1;33m\u001b[0m\u001b[1;33m\u001b[0m\u001b[0m\n\u001b[0;32m     65\u001b[0m             \u001b[1;32mif\u001b[0m \u001b[0mfault_tolerant_ancilla\u001b[0m\u001b[1;33m:\u001b[0m\u001b[1;33m\u001b[0m\u001b[1;33m\u001b[0m\u001b[0m\n\u001b[1;32m---> 66\u001b[1;33m                 \u001b[1;32mraise\u001b[0m \u001b[0mValueError\u001b[0m\u001b[1;33m(\u001b[0m\u001b[1;34m\"Can't set up fault tolerant ancilla with two logical qubits due to memory size restrictions\"\u001b[0m\u001b[1;33m)\u001b[0m\u001b[1;33m\u001b[0m\u001b[1;33m\u001b[0m\u001b[0m\n\u001b[0m\u001b[0;32m     67\u001b[0m         \u001b[1;32mif\u001b[0m \u001b[1;32mnot\u001b[0m \u001b[0mancilla\u001b[0m\u001b[1;33m:\u001b[0m\u001b[1;33m\u001b[0m\u001b[1;33m\u001b[0m\u001b[0m\n\u001b[0;32m     68\u001b[0m             \u001b[1;32mif\u001b[0m \u001b[0mfault_tolerant_ancilla\u001b[0m\u001b[1;33m:\u001b[0m\u001b[1;33m\u001b[0m\u001b[1;33m\u001b[0m\u001b[0m\n",
      "\u001b[1;31mValueError\u001b[0m: Can't set up fault tolerant ancilla with two logical qubits due to memory size restrictions"
     ]
    }
   ],
   "source": [
    "qubit = SteaneCodeLogicalQubit(2, parity_check_matrix, codewords, \n",
    "                                   ancilla = True, fault_tolerant_b = True, \n",
    "                                   fault_tolerant_ancilla = True, ancilla_rounds = 3,\n",
    "                                   data_rounds = 3\n",
    "                                  )\n",
    "qubit.set_up_logical_zero(0)\n",
    "for i in range(3):\n",
    "    qubit.barrier()\n",
    "    qubit.set_up_logical_zero(1)\n",
    "    qubit.barrier()\n",
    "    qubit.logical_gate_CX(0, 1)\n",
    "    qubit.barrier()\n",
    "    qubit.logical_measure_data_FT(logical_qubit = 1, measure_round = i + 1)\n",
    "    qubit.barrier() \n",
    "qubit.logical_measure_data(0)\n",
    "if TESTING:\n",
    "    qubit.force_X_error(TEST_X_QUBIT, TEST_X_LOGICAL)   #force X error for testing\n",
    "    qubit.barrier()\n",
    "for i in range(ANCILLA_MEASUREMENT_REPEATS):\n",
    "    qubit.set_up_ancilla(0)\n",
    "    qubit.logical_measure_ancilla(0, i)\n",
    "qubit.logical_measure_data(0)\n",
    "if NOISE:\n",
    "    result = execute(qubit, SIMULATOR, noise_model=noise_model, shots=SHOTS).result()\n",
    "else:\n",
    "    result = execute(qubit, SIMULATOR, shots=SHOTS).result()\n",
    "counts = result.get_counts(qubit)\n",
    "#print ('The different states can be counted.  The simulated result are', counts)"
   ]
  },
  {
   "cell_type": "code",
   "execution_count": null,
   "id": "e96458c3",
   "metadata": {},
   "outputs": [],
   "source": [
    "error_rate, rejected, accepted, valid, invalid = process_FT_results(counts, codewords, \n",
    "                                                                    anc_zero = ANC_ZERO,\n",
    "                                                                    anc_one = ANC_ONE,\n",
    "                                                                    verbose = True,  \n",
    "                                                                    data_meas_start = DATA_MEAS_START, \n",
    "                                                                    data_start = DATA_START_B,\n",
    "                                                                    ancilla_qubits = ANCILLA_QUBITS, \n",
    "                                                                    ancilla_meas_repeats = ANCILLA_MEASUREMENT_REPEATS,\n",
    "                                                                    data_meas_qubits = DATA_MEAS_QUBITS, \n",
    "                                                                    data_meas_repeats = DATA_MEASUREMENT_REPEATS\n",
    "                                                                    )\n",
    "print(f'The error rate is {error_rate:.4f} ')"
   ]
  },
  {
   "cell_type": "code",
   "execution_count": null,
   "id": "8dbfed7a",
   "metadata": {},
   "outputs": [],
   "source": [
    "qubit.draw(output='mpl', filename = 'Steane_code_FTb_encoding_and_detection_circuit.jpg', fold = 80)"
   ]
  }
 ],
 "metadata": {
  "kernelspec": {
   "display_name": "Python 3",
   "language": "python",
   "name": "python3"
  },
  "language_info": {
   "codemirror_mode": {
    "name": "ipython",
    "version": 3
   },
   "file_extension": ".py",
   "mimetype": "text/x-python",
   "name": "python",
   "nbconvert_exporter": "python",
   "pygments_lexer": "ipython3",
   "version": "3.8.10"
  }
 },
 "nbformat": 4,
 "nbformat_minor": 5
}
