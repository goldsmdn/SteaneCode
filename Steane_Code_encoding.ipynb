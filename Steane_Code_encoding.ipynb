{
 "cells": [
  {
   "cell_type": "markdown",
   "metadata": {},
   "source": [
    "Steane code\n",
    "==========\n",
    "\n",
    "Sets up logical zero for Steane code based  on the parity matrix in the book by Nielsen MA, Chuang IL. Quantum Computation and Quantum Information, 10th Anniversary Edition. Cambridge University Press; 2016. p. 474"
   ]
  },
  {
   "cell_type": "markdown",
   "metadata": {},
   "source": [
    "The necessary function modules are imported , including the SteaneCodeLogicalQubit class.  The methods of this class are called in this notebook."
   ]
  },
  {
   "cell_type": "code",
   "execution_count": 1,
   "metadata": {},
   "outputs": [],
   "source": [
    "from qiskit import(\n",
    "  QuantumCircuit,\n",
    "  QuantumRegister,\n",
    "  ClassicalRegister,\n",
    "  execute,\n",
    "  Aer)\n",
    "\n",
    "from qiskit.providers.aer.noise import NoiseModel\n",
    "from qiskit.providers.aer.noise.errors import pauli_error, depolarizing_error\n",
    "from qiskit.compiler import transpile\n",
    "\n",
    "from circuits import SteaneCodeLogicalQubit\n",
    "\n",
    "from helper_functions import (\n",
    "    count_valid_output_strings,\n",
    "    find_individual_ancilla_values,\n",
    "    find_ancilla_values,\n",
    "    find_parity,\n",
    "    get_noise,\n",
    "    mean_of_list,\n",
    "    calculate_standard_error\n",
    "    )"
   ]
  },
  {
   "cell_type": "markdown",
   "metadata": {},
   "source": [
    "Define constants so the process flow can be controlled from one place:"
   ]
  },
  {
   "cell_type": "code",
   "execution_count": 2,
   "metadata": {},
   "outputs": [],
   "source": [
    "NOISE = True                             #Test with noise\n",
    "SHOTS = 10000                            #Number of shots to run    \n",
    "MEASURE_NOISE = 0.0046                   #Measurement noise not relevant\n",
    "SINGLE_GATE_DEPOLARISING = 0.000366      #Single gate noise   \n",
    "TWO_GATE_DEPOLARISING = 0.0204           #Two gate noise\n",
    "ITERATIONS = 25\n",
    "\n",
    "SIMULATOR = Aer.get_backend('qasm_simulator')"
   ]
  },
  {
   "cell_type": "markdown",
   "metadata": {},
   "source": [
    "We specify the parity check matrix, since this defines the Steane code.  It is validated before the logical qubit is initiated to check that it is orthogonal to the valid codewords."
   ]
  },
  {
   "cell_type": "code",
   "execution_count": 3,
   "metadata": {},
   "outputs": [],
   "source": [
    "parity_check_matrix = [[0,0,0,1,1,1,1],\n",
    "                       [0,1,1,0,0,1,1],\n",
    "                       [1,0,1,0,1,0,1]]"
   ]
  },
  {
   "cell_type": "markdown",
   "metadata": {},
   "source": [
    "The allowed codewords for the zero logical from Nielsen and Chuang is stored in a list.  Note, the order of qubits in the list is reversed compared to the normal output of Qiskit."
   ]
  },
  {
   "cell_type": "code",
   "execution_count": 4,
   "metadata": {},
   "outputs": [],
   "source": [
    "codewords = [[0,0,0,0,0,0,0],   \n",
    "             [1,0,1,0,1,0,1],\n",
    "             [0,1,1,0,0,1,1],\n",
    "             [1,1,0,0,1,1,0],\n",
    "             [0,0,0,1,1,1,1],\n",
    "             [1,0,1,1,0,1,0],\n",
    "             [0,1,1,1,1,0,0],\n",
    "             [1,1,0,1,0,0,1]]"
   ]
  },
  {
   "cell_type": "markdown",
   "metadata": {},
   "source": [
    "Encoding set up\n",
    "-----------------------\n",
    "The encoding circuit alone is set up and either transpiled to the native gate set for the Ion computer, or calculated with the standard IBM noise set\n"
   ]
  },
  {
   "cell_type": "code",
   "execution_count": 6,
   "metadata": {},
   "outputs": [
    {
     "name": "stdout",
     "output_type": "stream",
     "text": [
      "Run with 10000 shots and 25 iterations\n",
      "Results after transpilation to ion computer gate set\n",
      "There were 8076 valid output strings and 1924 invalid output string\n",
      "Invalid strings occurred on 0.1924 of runs\n",
      "There were 8013 valid output strings and 1987 invalid output string\n",
      "Invalid strings occurred on 0.1987 of runs\n",
      "There were 8065 valid output strings and 1935 invalid output string\n",
      "Invalid strings occurred on 0.1935 of runs\n",
      "There were 8054 valid output strings and 1946 invalid output string\n",
      "Invalid strings occurred on 0.1946 of runs\n",
      "There were 8055 valid output strings and 1945 invalid output string\n",
      "Invalid strings occurred on 0.1945 of runs\n",
      "There were 8085 valid output strings and 1915 invalid output string\n",
      "Invalid strings occurred on 0.1915 of runs\n",
      "There were 8009 valid output strings and 1991 invalid output string\n",
      "Invalid strings occurred on 0.1991 of runs\n",
      "There were 8045 valid output strings and 1955 invalid output string\n",
      "Invalid strings occurred on 0.1955 of runs\n",
      "There were 8004 valid output strings and 1996 invalid output string\n",
      "Invalid strings occurred on 0.1996 of runs\n",
      "There were 8058 valid output strings and 1942 invalid output string\n",
      "Invalid strings occurred on 0.1942 of runs\n",
      "There were 8043 valid output strings and 1957 invalid output string\n",
      "Invalid strings occurred on 0.1957 of runs\n",
      "There were 8061 valid output strings and 1939 invalid output string\n",
      "Invalid strings occurred on 0.1939 of runs\n",
      "There were 8038 valid output strings and 1962 invalid output string\n",
      "Invalid strings occurred on 0.1962 of runs\n",
      "There were 8046 valid output strings and 1954 invalid output string\n",
      "Invalid strings occurred on 0.1954 of runs\n",
      "There were 8031 valid output strings and 1969 invalid output string\n",
      "Invalid strings occurred on 0.1969 of runs\n",
      "There were 7946 valid output strings and 2054 invalid output string\n",
      "Invalid strings occurred on 0.2054 of runs\n",
      "There were 8031 valid output strings and 1969 invalid output string\n",
      "Invalid strings occurred on 0.1969 of runs\n",
      "There were 8039 valid output strings and 1961 invalid output string\n",
      "Invalid strings occurred on 0.1961 of runs\n",
      "There were 7983 valid output strings and 2017 invalid output string\n",
      "Invalid strings occurred on 0.2017 of runs\n",
      "There were 8054 valid output strings and 1946 invalid output string\n",
      "Invalid strings occurred on 0.1946 of runs\n",
      "There were 7956 valid output strings and 2044 invalid output string\n",
      "Invalid strings occurred on 0.2044 of runs\n",
      "There were 7977 valid output strings and 2023 invalid output string\n",
      "Invalid strings occurred on 0.2023 of runs\n",
      "There were 8002 valid output strings and 1998 invalid output string\n",
      "Invalid strings occurred on 0.1998 of runs\n",
      "There were 8047 valid output strings and 1953 invalid output string\n",
      "Invalid strings occurred on 0.1953 of runs\n",
      "There were 8001 valid output strings and 1999 invalid output string\n",
      "Invalid strings occurred on 0.1999 of runs\n",
      "\n",
      " Over all iterations invalid strings occurred on 0.1971 of runs\n",
      " The standard deviation 0.0036 and the standard error is 0.0007\n",
      "\n",
      "Results without transpilation\n",
      "There were 8099 valid output strings and 1901 invalid output string\n",
      "Invalid strings occurred on 0.1901 of runs\n",
      "There were 8098 valid output strings and 1902 invalid output string\n",
      "Invalid strings occurred on 0.1902 of runs\n",
      "There were 8098 valid output strings and 1902 invalid output string\n",
      "Invalid strings occurred on 0.1902 of runs\n",
      "There were 8075 valid output strings and 1925 invalid output string\n",
      "Invalid strings occurred on 0.1925 of runs\n",
      "There were 8028 valid output strings and 1972 invalid output string\n",
      "Invalid strings occurred on 0.1972 of runs\n",
      "There were 8017 valid output strings and 1983 invalid output string\n",
      "Invalid strings occurred on 0.1983 of runs\n",
      "There were 8095 valid output strings and 1905 invalid output string\n",
      "Invalid strings occurred on 0.1905 of runs\n",
      "There were 8120 valid output strings and 1880 invalid output string\n",
      "Invalid strings occurred on 0.1880 of runs\n",
      "There were 7991 valid output strings and 2009 invalid output string\n",
      "Invalid strings occurred on 0.2009 of runs\n",
      "There were 8035 valid output strings and 1965 invalid output string\n",
      "Invalid strings occurred on 0.1965 of runs\n",
      "There were 8121 valid output strings and 1879 invalid output string\n",
      "Invalid strings occurred on 0.1879 of runs\n",
      "There were 7981 valid output strings and 2019 invalid output string\n",
      "Invalid strings occurred on 0.2019 of runs\n",
      "There were 8070 valid output strings and 1930 invalid output string\n",
      "Invalid strings occurred on 0.1930 of runs\n",
      "There were 8018 valid output strings and 1982 invalid output string\n",
      "Invalid strings occurred on 0.1982 of runs\n",
      "There were 8084 valid output strings and 1916 invalid output string\n",
      "Invalid strings occurred on 0.1916 of runs\n",
      "There were 8062 valid output strings and 1938 invalid output string\n",
      "Invalid strings occurred on 0.1938 of runs\n",
      "There were 8041 valid output strings and 1959 invalid output string\n",
      "Invalid strings occurred on 0.1959 of runs\n",
      "There were 8003 valid output strings and 1997 invalid output string\n",
      "Invalid strings occurred on 0.1997 of runs\n",
      "There were 8009 valid output strings and 1991 invalid output string\n",
      "Invalid strings occurred on 0.1991 of runs\n",
      "There were 8056 valid output strings and 1944 invalid output string\n",
      "Invalid strings occurred on 0.1944 of runs\n",
      "There were 8076 valid output strings and 1924 invalid output string\n",
      "Invalid strings occurred on 0.1924 of runs\n",
      "There were 8028 valid output strings and 1972 invalid output string\n",
      "Invalid strings occurred on 0.1972 of runs\n",
      "There were 8067 valid output strings and 1933 invalid output string\n",
      "Invalid strings occurred on 0.1933 of runs\n",
      "There were 8020 valid output strings and 1980 invalid output string\n",
      "Invalid strings occurred on 0.1980 of runs\n",
      "There were 7995 valid output strings and 2005 invalid output string\n",
      "Invalid strings occurred on 0.2005 of runs\n",
      "\n",
      " Over all iterations invalid strings occurred on 0.1949 of runs\n",
      " The standard deviation 0.0042 and the standard error is 0.0008\n",
      "\n"
     ]
    }
   ],
   "source": [
    "print(f'Run with {SHOTS} shots and {ITERATIONS} iterations')\n",
    "for ion_gate_set in [True, False]:\n",
    "    results_list = []\n",
    "    if ion_gate_set:\n",
    "        print('Results after transpilation to ion computer gate set')   \n",
    "    else:\n",
    "        print('Results without transpilation')\n",
    "    for iteration in range(ITERATIONS):\n",
    "        qubit = SteaneCodeLogicalQubit(1, parity_check_matrix, codewords)\n",
    "        qubit.set_up_logical_zero()\n",
    "        qubit.barrier()\n",
    "        if ion_gate_set:\n",
    "            SINGLE_GATE_SET = ['id', 'ry', 'rx']\n",
    "            TWO_GATE_SET = ['rxx']\n",
    "        else:\n",
    "            SINGLE_GATE_SET = ['id', 'h', 'x', 'y', 'z,']\n",
    "            TWO_GATE_SET = ['cx', 'cz']    \n",
    "        BASIS_GATE_SET = SINGLE_GATE_SET + TWO_GATE_SET\n",
    "        if NOISE:\n",
    "            noise_model = get_noise(MEASURE_NOISE, SINGLE_GATE_DEPOLARISING, TWO_GATE_DEPOLARISING, \n",
    "                                   SINGLE_GATE_SET, TWO_GATE_SET)\n",
    "        #print('noise_model',noise_model)\n",
    "        qubit.logical_measure()\n",
    "        qubit.barrier()\n",
    "        if ion_gate_set:\n",
    "            qt = transpile(qubit, basis_gates = BASIS_GATE_SET)\n",
    "            if NOISE:\n",
    "                result = execute(qt, SIMULATOR, noise_model = noise_model, shots = SHOTS).result()\n",
    "            else:\n",
    "                result = execute(qt, SIMULATOR, shots = SHOTS).result()\n",
    "            counts = result.get_counts(qt)\n",
    "        else:\n",
    "            if NOISE:\n",
    "                result = execute(qubit, SIMULATOR, noise_model = noise_model, shots = SHOTS).result()\n",
    "            else:\n",
    "                result = execute(qubit, SIMULATOR, shots = SHOTS).result()\n",
    "            counts = result.get_counts(qubit)\n",
    "        count_valid, count_invalid = count_valid_output_strings(counts, codewords, 2)\n",
    "        invalid_rate = count_invalid / SHOTS\n",
    "        results_list.append(invalid_rate)\n",
    "        print(f'There were {count_valid} valid output strings and {count_invalid} invalid output string')\n",
    "        print(f'Invalid strings occurred on {invalid_rate:.4f} of runs')\n",
    "    mean = mean_of_list(results_list)\n",
    "    standard_deviation, standard_error = calculate_standard_error(results_list)\n",
    "    print()\n",
    "    print(f' Over all iterations invalid strings occurred on {mean:.4f} of runs')\n",
    "    print(f' The standard deviation {standard_deviation:.4f} and the standard error is {standard_error:.4f}')\n",
    "    print()"
   ]
  },
  {
   "cell_type": "markdown",
   "metadata": {},
   "source": [
    "Draw circuit:"
   ]
  },
  {
   "cell_type": "code",
   "execution_count": null,
   "metadata": {},
   "outputs": [],
   "source": [
    "qubit.draw(output = 'mpl', filename = 'Steane_code_encoding_circuit.jpg', fold = 30)"
   ]
  },
  {
   "cell_type": "markdown",
   "metadata": {},
   "source": [
    "Draw transpiled circuit"
   ]
  },
  {
   "cell_type": "code",
   "execution_count": null,
   "metadata": {},
   "outputs": [],
   "source": [
    "qt.draw(output = 'mpl', filename = 'Steane_code_encoding_circuit_transpiled.jpg', fold = 40)"
   ]
  }
 ],
 "metadata": {
  "kernelspec": {
   "display_name": "Python 3",
   "language": "python",
   "name": "python3"
  },
  "language_info": {
   "codemirror_mode": {
    "name": "ipython",
    "version": 3
   },
   "file_extension": ".py",
   "mimetype": "text/x-python",
   "name": "python",
   "nbconvert_exporter": "python",
   "pygments_lexer": "ipython3",
   "version": "3.8.10"
  }
 },
 "nbformat": 4,
 "nbformat_minor": 4
}
