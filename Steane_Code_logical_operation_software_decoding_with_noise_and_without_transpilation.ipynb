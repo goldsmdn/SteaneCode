{
 "cells": [
  {
   "cell_type": "markdown",
   "metadata": {},
   "source": [
    "Steane code logical operation with software decoding\n",
    "============================================\n",
    "\n",
    "In this workbook logical operations for the Steane code are compared with the equivalent operations for a single qubit.  The workbook is set up without transpilation and iterates through a number of scaling error factors.\n",
    "\n",
    "1. Set up logical zero for Steane code based  on the parity matrix in the book by Nielsen MA, Chuang IL. Quantum Computation and Quantum Information, 10th Anniversary Edition. Cambridge University Press; 2016. p. 474 \n",
    "\n",
    "2. Set up physical Hadamard, CX and X to produce a physical Bell pair.\n",
    "\n",
    "2. Set up logical Hadamard, CX and X to produce a logical Bell pair.\n",
    "\n",
    "3. Set up the ancilla for the logical qubits\n",
    "\n",
    "4. Attempt to correct the logical data qubits using decoding software.\n",
    "\n",
    "5. Assess how many data qubits would give a valid logical Bell state and compare to the physical qubits.\n",
    "\n",
    "6. Repeat for different noise scaling factors."
   ]
  },
  {
   "cell_type": "markdown",
   "metadata": {},
   "source": [
    "Import the necessary function modules, including the SteaneCodeLogicalQubit class and helper functions."
   ]
  },
  {
   "cell_type": "code",
   "execution_count": 1,
   "metadata": {},
   "outputs": [],
   "source": [
    "from qiskit import(\n",
    "    QuantumCircuit,\n",
    "    QuantumRegister,\n",
    "    ClassicalRegister,\n",
    "    execute,\n",
    "    Aer\n",
    "    )\n",
    "\n",
    "from qiskit.providers.aer.noise import NoiseModel\n",
    "from qiskit.providers.aer.noise.errors import pauli_error, depolarizing_error\n",
    "from qiskit.compiler import transpile\n",
    "\n",
    "from circuits import SteaneCodeLogicalQubit\n",
    "\n",
    "import matplotlib.pyplot as plt\n",
    "import numpy as np\n",
    "from datetime import datetime\n",
    "\n",
    "from helper_functions import (\n",
    "    count_valid_output_strings,\n",
    "    find_individual_ancilla_values,\n",
    "    find_ancilla_values,\n",
    "    find_parity,\n",
    "    get_noise,\n",
    "    summarise_logical_counts,\n",
    "    mean_of_list,\n",
    "    calculate_standard_error,\n",
    "    flip_code_words, \n",
    "    correct_qubit,\n",
    "    convert_codewords,\n",
    "    look_up_data\n",
    "    )"
   ]
  },
  {
   "cell_type": "markdown",
   "metadata": {},
   "source": [
    "Define constants so that the process flow can be controlled from one place:"
   ]
  },
  {
   "cell_type": "code",
   "execution_count": 2,
   "metadata": {},
   "outputs": [],
   "source": [
    "DATA_QUBITS = 7\n",
    "ANCILLA_QUBITS = 3\n",
    "SPACE = ' '\n",
    "FACTOR_LIST = [1, 0.1, 0.01, 0.001, 0.0001]\n",
    "TITLE1 = 'Bell pair fidelity in logical and physical qubits '\n",
    "\n",
    "#use standard gate set without transpilation\n",
    "SINGLE_GATE_SET  = ['id', 'x', 'y', 'z', 'h']\n",
    "TWO_GATE_SET = ['cx', 'cz']\n",
    "\n",
    "NOISE = True                            #Test with noise\n",
    "SHOTS = 100000                          #Number of shots to run    \n",
    "MEASURE_NOISE = 0.0046                  #Measurement noise\n",
    "SINGLE_GATE_DEPOLARISING = 0.000366     #Single gate noise   \n",
    "TWO_GATE_DEPOLARISING = 0.0204          #Two gate noise \n",
    "ITERATIONS = 25\n",
    "\n",
    "SIMULATOR = Aer.get_backend('qasm_simulator')"
   ]
  },
  {
   "cell_type": "markdown",
   "metadata": {},
   "source": [
    "Specify the parity check matrix, since this defines the Steane code.  It is validated before the logical qubit is initiated to check that it is orthogonal to the valid codewords."
   ]
  },
  {
   "cell_type": "code",
   "execution_count": 3,
   "metadata": {},
   "outputs": [],
   "source": [
    "parity_check_matrix = [[0,0,0,1,1,1,1],\n",
    "                       [0,1,1,0,0,1,1],\n",
    "                       [1,0,1,0,1,0,1]]"
   ]
  },
  {
   "cell_type": "markdown",
   "metadata": {},
   "source": [
    "The allowed codewords for the logical zero from Nielsen and Chuang is stored in a list.  Note, the order of qubits in the list is reversed compared to the normal output of Qiskit."
   ]
  },
  {
   "cell_type": "code",
   "execution_count": 4,
   "metadata": {},
   "outputs": [],
   "source": [
    "codewords = [[0,0,0,0,0,0,0],   \n",
    "             [1,0,1,0,1,0,1],\n",
    "             [0,1,1,0,0,1,1],\n",
    "             [1,1,0,0,1,1,0],\n",
    "             [0,0,0,1,1,1,1],\n",
    "             [1,0,1,1,0,1,0],\n",
    "             [0,1,1,1,1,0,0],\n",
    "             [1,1,0,1,0,0,1]]"
   ]
  },
  {
   "cell_type": "code",
   "execution_count": 5,
   "metadata": {},
   "outputs": [],
   "source": [
    "#carryout a bit flip of the list of codewords to find the codewords for the logical one.\n",
    "flipped_codewords = flip_code_words(codewords)"
   ]
  },
  {
   "cell_type": "code",
   "execution_count": 6,
   "metadata": {},
   "outputs": [],
   "source": [
    "#The allowed codewords for a single qubit Bell pair\n",
    "bell_valid_codewords = [[0,1],[1,0]]"
   ]
  },
  {
   "cell_type": "code",
   "execution_count": 7,
   "metadata": {},
   "outputs": [],
   "source": [
    "#function to print time\n",
    "def print_time():\n",
    "    now = datetime.now()\n",
    "    current_time = now.strftime(\"%H:%M:%S\")\n",
    "    print(\"Current Time =\", current_time)\n",
    "    return"
   ]
  },
  {
   "cell_type": "markdown",
   "metadata": {},
   "source": [
    "Physical qubits circuit for Bell pair\n",
    "-------------------------------------------------"
   ]
  },
  {
   "cell_type": "markdown",
   "metadata": {},
   "source": [
    "Function module to set up a Bell pair with two physical qubits."
   ]
  },
  {
   "cell_type": "code",
   "execution_count": 8,
   "metadata": {},
   "outputs": [],
   "source": [
    "def execute_physical_qubits(measure_noise, single_gate_depolarising, two_gate_depolarising):\n",
    "    print()\n",
    "    print('Physical qubits Bell pair')\n",
    "    error_rate_list = []\n",
    "    for iteration in range(ITERATIONS):\n",
    "        #print(f'For iteration {iteration}')\n",
    "        qr = QuantumRegister(2,'code_qubit')     # Two code QBits\n",
    "        cr = ClassicalRegister(2,'syndrome_bit') # Two registers\n",
    "        qc = QuantumCircuit(qr, cr)\n",
    "        qc.h(qr[0])\n",
    "        qc.x(qr[1])\n",
    "        qc.cx(qr[0],qr[1])\n",
    "        qc.measure(qr, cr)\n",
    "        #initialise circuit\n",
    "        if NOISE:\n",
    "            noise_model = get_noise(measure_noise, single_gate_depolarising, \n",
    "                                    two_gate_depolarising, SINGLE_GATE_SET , TWO_GATE_SET\n",
    "                                   )\n",
    "        if NOISE:\n",
    "            result = execute(qc, SIMULATOR, noise_model = noise_model, shots = SHOTS).result()\n",
    "        else:\n",
    "            result = execute(qc, SIMULATOR, shots = SHOTS).result()\n",
    "        counts = result.get_counts(qc)\n",
    "        count_valid, count_invalid = count_valid_output_strings(counts, bell_valid_codewords, 0)\n",
    "        #print(f'The results are {counts}')\n",
    "        #print(f'Valid codewords {bell_valid_codewords}')      \n",
    "        error_rate = count_invalid / SHOTS\n",
    "        #print(f'The error rate is {error_rate:.4f}')\n",
    "        #print()\n",
    "        error_rate_list.append(error_rate)\n",
    "    mean_error_physical = mean_of_list(error_rate_list)\n",
    "    standard_deviation_physical, standard_error_physical = calculate_standard_error(error_rate_list)\n",
    "    print(f'The mean error rate is {mean_error_physical:.8f} and the standard error is {standard_error_physical:.8f}')\n",
    "    return(mean_error_physical, standard_error_physical)"
   ]
  },
  {
   "cell_type": "markdown",
   "metadata": {},
   "source": [
    "Logical Bell pair\n",
    "-----------------------"
   ]
  },
  {
   "cell_type": "markdown",
   "metadata": {},
   "source": [
    "Function module to set up the Bell pair with two logical qubits."
   ]
  },
  {
   "cell_type": "code",
   "execution_count": 9,
   "metadata": {},
   "outputs": [],
   "source": [
    "def set_up_circuit():\n",
    "    qubit = SteaneCodeLogicalQubit(2, parity_check_matrix, codewords, False)\n",
    "    for index in range(2):\n",
    "        qubit.set_up_logical_zero(index)\n",
    "    qubit.barrier()\n",
    "    qubit.logical_gate_H(0)\n",
    "    qubit.logical_gate_X(1)    \n",
    "    qubit.logical_gate_CX(0, 1)\n",
    "    qubit.force_X_error(1, 0)\n",
    "    qubit.force_X_error(5, 1)\n",
    "    qubit.barrier()\n",
    "    for index in range(2):\n",
    "        qubit.set_up_ancilla(index)\n",
    "        qubit.barrier()\n",
    "        qubit.logical_measure(index)\n",
    "    return(qubit)"
   ]
  },
  {
   "cell_type": "markdown",
   "metadata": {},
   "source": [
    "Function module to execute the logical Bell pair.  For items in the counts dictionary the data qubits are corrected based on the ancilla measurements.  Each data qubit measurements is then decoded to:\n",
    " - 0 if the bit string is in the set of logical zero bitstring\n",
    " - 1 if the bit string is in the set of logical one bitstring\n",
    " - 2 if the bitstring is outside the codespace of valid bitstrings\n",
    "\n",
    "A check is made to find out if the string of two bits after decoding is in the set of valid bell pairs {'01' and '10'}\n",
    "Finally the results of the calculation are summarised and returned."
   ]
  },
  {
   "cell_type": "code",
   "execution_count": 10,
   "metadata": {},
   "outputs": [],
   "source": [
    "def execute_logical_qubits(measure_noise, single_gate_depolarising, two_gate_depolarising):\n",
    "    print()\n",
    "    print('Logical qubits Bell pair')\n",
    "    corrected_key =''\n",
    "    invalid_list = []\n",
    "    valid_list = []\n",
    "    for iteration in range(ITERATIONS):\n",
    "        corrected_counts = {}\n",
    "        new_counts = {}\n",
    "        qubit = set_up_circuit()\n",
    "        if NOISE:\n",
    "                noise_model = get_noise(measure_noise, single_gate_depolarising, \n",
    "                                        two_gate_depolarising, SINGLE_GATE_SET , TWO_GATE_SET\n",
    "                                       )\n",
    "                result = execute(qubit, SIMULATOR, noise_model = noise_model, shots = SHOTS).result()\n",
    "        else:\n",
    "                result = execute(qubit, SIMULATOR, shots = SHOTS).result()\n",
    "        counts = result.get_counts(qubit)\n",
    "        corrected_data = []\n",
    "        for key, values in counts.items():\n",
    "            #print('key, values', key, values)\n",
    "            # X ancilla1\n",
    "            key0 = key.split()[0]\n",
    "            # Z ancilla1\n",
    "            key1 = key.split()[1]\n",
    "            #data qubits1\n",
    "            key2 = key.split()[2]\n",
    "            # X ancilla2\n",
    "            key3 = key.split()[3]\n",
    "            # Z ancilla2\n",
    "            key4 = key.split()[4]\n",
    "            #data qubits2\n",
    "            key5 = key.split()[5]\n",
    "            corrected_data0 = correct_qubit(key2, key0, DATA_QUBITS)\n",
    "            corrected_data1 = correct_qubit(key5, key3, DATA_QUBITS)\n",
    "            corrected_key = key0 + SPACE + key1 + SPACE + corrected_data0 + SPACE\n",
    "            corrected_key = corrected_key + key3 + SPACE + key4 + SPACE + corrected_data1\n",
    "            value_found = corrected_counts.get(corrected_key)\n",
    "            if value_found:\n",
    "                corrected_counts[corrected_key] = value_found + values\n",
    "            else:\n",
    "                corrected_counts.update({corrected_key: values})  \n",
    "        new_counts = summarise_logical_counts(corrected_counts, codewords, flipped_codewords, 2, 5)  \n",
    "        count_valid, count_invalid = count_valid_output_strings(new_counts, bell_valid_codewords, 0)\n",
    "        invalid_list.append(count_invalid)\n",
    "        valid_list.append(count_valid)\n",
    "    mean_invalid = mean_of_list(invalid_list)\n",
    "    total_valid = sum(valid_list)\n",
    "    total_invalid = sum(invalid_list)\n",
    "    total_all = total_valid + total_invalid\n",
    "    print(f'There were {total_valid} valid shots and {total_invalid} invalid shots giving {total_all} in total')\n",
    "    mean_error_logical = mean_invalid / SHOTS\n",
    "    standard_deviation, standard_error = calculate_standard_error(invalid_list)\n",
    "    standard_error_logical = standard_error / SHOTS\n",
    "    print(f'On average there are {mean_invalid:.1f} invalid codewords with a standard error of {standard_error:.1f}')\n",
    "    print(f'The mean error rate for a single qubit is {mean_error_logical :.8f} and the standard error is {standard_error_logical:.8f}')\n",
    "    return(mean_error_logical, standard_error_logical)"
   ]
  },
  {
   "cell_type": "markdown",
   "metadata": {},
   "source": [
    "Function for plotting graph"
   ]
  },
  {
   "cell_type": "code",
   "execution_count": 11,
   "metadata": {},
   "outputs": [],
   "source": [
    "def plot_graph(title, factor_list, physical_list, logical_list, physical_error_list, logical_error_list):\n",
    "    plt.plot(factor_list, physical_list, '.',color = '#ff8333',linestyle = '', label = 'Physical Qubits')\n",
    "    plt.plot(factor_list, logical_list, '.',color = '#8333ff', linestyle = '',label = 'Logical Qubits')\n",
    "    plt.errorbar(factor_list, physical_list, yerr = physical_error_list, color = '#ff8333' )\n",
    "    plt.errorbar(factor_list, logical_list, yerr = logical_error_list, color = '#8333ff' )\n",
    "    plt.xlabel('Error scaling factor')\n",
    "    plt.ylabel('Error rate')\n",
    "    plt.title(title, fontsize = '8')\n",
    "    plt.xscale(\"log\")\n",
    "    plt.yscale(\"log\")\n",
    "    plt.legend(fontsize = '8')\n",
    "    fname = title + '.png'\n",
    "    plt.savefig(title)"
   ]
  },
  {
   "cell_type": "markdown",
   "metadata": {},
   "source": [
    "Iterate through different noise scaling factor for physical and logical Bell pairs and append results to lists used for graphs.  There different noise scenarios are considered in turn because the simulations might take a long time to run."
   ]
  },
  {
   "cell_type": "code",
   "execution_count": 12,
   "metadata": {},
   "outputs": [
    {
     "name": "stdout",
     "output_type": "stream",
     "text": [
      "Running with normal noise\n",
      "\n",
      "Processing error scaling factor 1\n",
      "Current Time = 14:28:10\n",
      "\n",
      "Physical qubits Bell pair\n",
      "The mean error rate is 0.02920280 and the standard error is 0.00008431\n",
      "\n",
      "Logical qubits Bell pair\n",
      "There were 894985 valid shots and 1605015 invalid shots giving 2500000 in total\n",
      "On average there are 64200.6 invalid codewords with a standard error of 28.1\n",
      "The mean error rate for a single qubit is 0.64200600 and the standard error is 0.00028134\n",
      "\n",
      "Processing error scaling factor 0.1\n",
      "Current Time = 14:39:14\n",
      "\n",
      "Physical qubits Bell pair\n",
      "The mean error rate is 0.00297240 and the standard error is 0.00003691\n",
      "\n",
      "Logical qubits Bell pair\n",
      "There were 2213174 valid shots and 286826 invalid shots giving 2500000 in total\n",
      "On average there are 11473.0 invalid codewords with a standard error of 24.1\n",
      "The mean error rate for a single qubit is 0.11473040 and the standard error is 0.00024128\n",
      "\n",
      "Processing error scaling factor 0.01\n",
      "Current Time = 14:50:49\n",
      "\n",
      "Physical qubits Bell pair\n",
      "The mean error rate is 0.00030800 and the standard error is 0.00001080\n",
      "\n",
      "Logical qubits Bell pair\n",
      "There were 2469088 valid shots and 30912 invalid shots giving 2500000 in total\n",
      "On average there are 1236.5 invalid codewords with a standard error of 8.3\n",
      "The mean error rate for a single qubit is 0.01236480 and the standard error is 0.00008271\n",
      "\n",
      "Processing error scaling factor 0.001\n",
      "Current Time = 15:02:25\n",
      "\n",
      "Physical qubits Bell pair\n",
      "The mean error rate is 0.00003360 and the standard error is 0.00000447\n",
      "\n",
      "Logical qubits Bell pair\n",
      "There were 2496973 valid shots and 3027 invalid shots giving 2500000 in total\n",
      "On average there are 121.1 invalid codewords with a standard error of 2.6\n",
      "The mean error rate for a single qubit is 0.00121080 and the standard error is 0.00002628\n",
      "\n",
      "Processing error scaling factor 0.0001\n",
      "Current Time = 15:14:05\n",
      "\n",
      "Physical qubits Bell pair\n",
      "The mean error rate is 0.00000360 and the standard error is 0.00000098\n",
      "\n",
      "Logical qubits Bell pair\n",
      "There were 2499711 valid shots and 289 invalid shots giving 2500000 in total\n",
      "On average there are 11.6 invalid codewords with a standard error of 0.6\n",
      "The mean error rate for a single qubit is 0.00011560 and the standard error is 0.00000560\n"
     ]
    },
    {
     "data": {
      "image/png": "[encoded data removed]",
      "text/plain": [
       "<Figure size 432x288 with 1 Axes>"
      ]
     },
     "metadata": {
      "needs_background": "light"
     },
     "output_type": "display_data"
    }
   ],
   "source": [
    "physical_list = []\n",
    "logical_list = []\n",
    "physical_error_list = []\n",
    "logical_error_list = []\n",
    "title2 = 'with normal noise'\n",
    "print('Running with normal noise')\n",
    "for factor in FACTOR_LIST:\n",
    "    print()\n",
    "    print(f'Processing error scaling factor {factor}')\n",
    "    print_time()\n",
    "    measure_noise = MEASURE_NOISE * factor\n",
    "    single_gate_depolarising = SINGLE_GATE_DEPOLARISING * factor\n",
    "    two_gate_depolarising = TWO_GATE_DEPOLARISING * factor\n",
    "    \n",
    "    mean_error, standard_error = execute_physical_qubits(measure_noise, single_gate_depolarising, two_gate_depolarising)\n",
    "    physical_list.append(mean_error)\n",
    "    physical_error_list.append(standard_error)\n",
    "    \n",
    "    mean_error, standard_error = execute_logical_qubits(measure_noise, single_gate_depolarising, two_gate_depolarising)\n",
    "    logical_list.append(mean_error)\n",
    "    logical_error_list.append(standard_error)\n",
    "title = TITLE1 + title2\n",
    "plot_graph(title, FACTOR_LIST, physical_list, logical_list, physical_error_list, logical_error_list)"
   ]
  },
  {
   "cell_type": "code",
   "execution_count": 13,
   "metadata": {},
   "outputs": [
    {
     "name": "stdout",
     "output_type": "stream",
     "text": [
      "Running without measure noise\n",
      "Processing error scaling factor 1\n",
      "Current Time = 15:25:40\n",
      "\n",
      "Physical qubits Bell pair\n",
      "The mean error rate is 0.02029800 and the standard error is 0.00007975\n",
      "\n",
      "Logical qubits Bell pair\n",
      "There were 976951 valid shots and 1523049 invalid shots giving 2500000 in total\n",
      "On average there are 60922.0 invalid codewords with a standard error of 24.0\n",
      "The mean error rate for a single qubit is 0.60921960 and the standard error is 0.00023957\n",
      "Processing error scaling factor 0.1\n",
      "Current Time = 15:37:43\n",
      "\n",
      "Physical qubits Bell pair\n",
      "The mean error rate is 0.00208520 and the standard error is 0.00003112\n",
      "\n",
      "Logical qubits Bell pair\n",
      "There were 2233947 valid shots and 266053 invalid shots giving 2500000 in total\n",
      "On average there are 10642.1 invalid codewords with a standard error of 21.9\n",
      "The mean error rate for a single qubit is 0.10642120 and the standard error is 0.00021911\n",
      "Processing error scaling factor 0.01\n",
      "Current Time = 15:49:22\n",
      "\n",
      "Physical qubits Bell pair\n",
      "The mean error rate is 0.00019400 and the standard error is 0.00000572\n",
      "\n",
      "Logical qubits Bell pair\n",
      "There were 2471491 valid shots and 28509 invalid shots giving 2500000 in total\n",
      "On average there are 1140.4 invalid codewords with a standard error of 6.6\n",
      "The mean error rate for a single qubit is 0.01140360 and the standard error is 0.00006572\n",
      "Processing error scaling factor 0.001\n",
      "Current Time = 16:00:59\n",
      "\n",
      "Physical qubits Bell pair\n",
      "The mean error rate is 0.00002120 and the standard error is 0.00000279\n",
      "\n",
      "Logical qubits Bell pair\n",
      "There were 2497199 valid shots and 2801 invalid shots giving 2500000 in total\n",
      "On average there are 112.0 invalid codewords with a standard error of 2.0\n",
      "The mean error rate for a single qubit is 0.00112040 and the standard error is 0.00001958\n",
      "Processing error scaling factor 0.0001\n",
      "Current Time = 16:12:09\n",
      "\n",
      "Physical qubits Bell pair\n",
      "The mean error rate is 0.00000200 and the standard error is 0.00000100\n",
      "\n",
      "Logical qubits Bell pair\n",
      "There were 2499716 valid shots and 284 invalid shots giving 2500000 in total\n",
      "On average there are 11.4 invalid codewords with a standard error of 0.6\n",
      "The mean error rate for a single qubit is 0.00011360 and the standard error is 0.00000635\n"
     ]
    },
    {
     "data": {
      "image/png": "[encoded data removed]",
      "text/plain": [
       "<Figure size 432x288 with 1 Axes>"
      ]
     },
     "metadata": {
      "needs_background": "light"
     },
     "output_type": "display_data"
    }
   ],
   "source": [
    "physical_list = []\n",
    "logical_list = []\n",
    "physical_error_list = []\n",
    "logical_error_list = []\n",
    "title2 = 'with no measure noise'\n",
    "print('Running without measure noise')\n",
    "for factor in FACTOR_LIST:\n",
    "    print(f'Processing error scaling factor {factor}')\n",
    "    print_time()\n",
    "    measure_noise = 0\n",
    "    single_gate_depolarising = SINGLE_GATE_DEPOLARISING * factor\n",
    "    two_gate_depolarising = TWO_GATE_DEPOLARISING * factor\n",
    "    \n",
    "    mean_error, standard_error = execute_physical_qubits(measure_noise, single_gate_depolarising, two_gate_depolarising)\n",
    "    physical_list.append(mean_error)\n",
    "    physical_error_list.append(standard_error)\n",
    "    \n",
    "    mean_error, standard_error = execute_logical_qubits(measure_noise, single_gate_depolarising, two_gate_depolarising)\n",
    "    logical_list.append(mean_error)\n",
    "    logical_error_list.append(standard_error)\n",
    "title = TITLE1 + title2\n",
    "plot_graph(title, FACTOR_LIST, physical_list, logical_list, physical_error_list, logical_error_list)"
   ]
  },
  {
   "cell_type": "code",
   "execution_count": 14,
   "metadata": {},
   "outputs": [
    {
     "name": "stdout",
     "output_type": "stream",
     "text": [
      "Running with single and two gate noises same\n",
      "Processing error scaling factor 1\n",
      "Current Time = 16:23:07\n",
      "\n",
      "Physical qubits Bell pair\n",
      "The mean error rate is 0.02042560 and the standard error is 0.00009927\n",
      "\n",
      "Logical qubits Bell pair\n",
      "There were 977100 valid shots and 1522900 invalid shots giving 2500000 in total\n",
      "On average there are 60916.0 invalid codewords with a standard error of 34.5\n",
      "The mean error rate for a single qubit is 0.60916000 and the standard error is 0.00034529\n",
      "Processing error scaling factor 0.1\n",
      "Current Time = 16:35:14\n",
      "\n",
      "Physical qubits Bell pair\n",
      "The mean error rate is 0.00205960 and the standard error is 0.00003169\n",
      "\n",
      "Logical qubits Bell pair\n",
      "There were 2233644 valid shots and 266356 invalid shots giving 2500000 in total\n",
      "On average there are 10654.2 invalid codewords with a standard error of 20.5\n",
      "The mean error rate for a single qubit is 0.10654240 and the standard error is 0.00020531\n",
      "Processing error scaling factor 0.01\n",
      "Current Time = 16:47:13\n",
      "\n",
      "Physical qubits Bell pair\n",
      "The mean error rate is 0.00021160 and the standard error is 0.00001034\n",
      "\n",
      "Logical qubits Bell pair\n",
      "There were 2471763 valid shots and 28237 invalid shots giving 2500000 in total\n",
      "On average there are 1129.5 invalid codewords with a standard error of 7.1\n",
      "The mean error rate for a single qubit is 0.01129480 and the standard error is 0.00007105\n",
      "Processing error scaling factor 0.001\n",
      "Current Time = 16:59:09\n",
      "\n",
      "Physical qubits Bell pair\n",
      "The mean error rate is 0.00002240 and the standard error is 0.00000312\n",
      "\n",
      "Logical qubits Bell pair\n",
      "There were 2497076 valid shots and 2924 invalid shots giving 2500000 in total\n",
      "On average there are 117.0 invalid codewords with a standard error of 2.1\n",
      "The mean error rate for a single qubit is 0.00116960 and the standard error is 0.00002148\n",
      "Processing error scaling factor 0.0001\n",
      "Current Time = 17:11:09\n",
      "\n",
      "Physical qubits Bell pair\n",
      "The mean error rate is 0.00000080 and the standard error is 0.00000055\n",
      "\n",
      "Logical qubits Bell pair\n",
      "There were 2499709 valid shots and 291 invalid shots giving 2500000 in total\n",
      "On average there are 11.6 invalid codewords with a standard error of 0.6\n",
      "The mean error rate for a single qubit is 0.00011640 and the standard error is 0.00000648\n"
     ]
    },
    {
     "data": {
      "image/png": "[encoded data removed]",
      "text/plain": [
       "<Figure size 432x288 with 1 Axes>"
      ]
     },
     "metadata": {
      "needs_background": "light"
     },
     "output_type": "display_data"
    }
   ],
   "source": [
    "physical_list = []\n",
    "logical_list = []\n",
    "physical_error_list = []\n",
    "logical_error_list = []\n",
    "title2 = 'with same single and two gate noise'\n",
    "print('Running with single and two gate noises same')\n",
    "for factor in FACTOR_LIST:\n",
    "    print(f'Processing error scaling factor {factor}')\n",
    "    print_time()\n",
    "    measure_noise = 0\n",
    "    single_gate_depolarising = SINGLE_GATE_DEPOLARISING * factor\n",
    "    two_gate_depolarising = TWO_GATE_DEPOLARISING * factor\n",
    "    \n",
    "    mean_error, standard_error = execute_physical_qubits(measure_noise, single_gate_depolarising, two_gate_depolarising)\n",
    "    physical_list.append(mean_error)\n",
    "    physical_error_list.append(standard_error)\n",
    "    \n",
    "    mean_error, standard_error = execute_logical_qubits(measure_noise, single_gate_depolarising, two_gate_depolarising)\n",
    "    logical_list.append(mean_error)\n",
    "    logical_error_list.append(standard_error)\n",
    "title = TITLE1 + title2\n",
    "plot_graph(title, FACTOR_LIST, physical_list, logical_list, physical_error_list, logical_error_list)"
   ]
  },
  {
   "cell_type": "code",
   "execution_count": null,
   "metadata": {},
   "outputs": [],
   "source": []
  }
 ],
 "metadata": {
  "interpreter": {
   "hash": "bce8fa9fbc203f16ab824739bfe2fff4e777c5492be5e63b66d9b944743a7909"
  },
  "kernelspec": {
   "display_name": "Python 3",
   "language": "python",
   "name": "python3"
  },
  "language_info": {
   "codemirror_mode": {
    "name": "ipython",
    "version": 3
   },
   "file_extension": ".py",
   "mimetype": "text/x-python",
   "name": "python",
   "nbconvert_exporter": "python",
   "pygments_lexer": "ipython3",
   "version": "3.8.10"
  }
 },
 "nbformat": 4,
 "nbformat_minor": 4
}
