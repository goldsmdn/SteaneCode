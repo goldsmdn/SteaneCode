{
 "cells": [
  {
   "cell_type": "markdown",
   "metadata": {},
   "source": [
    "Steane code logical operation with software decoding\n",
    "============================================\n",
    "\n",
    "In this workbook logical operations for the Steane code are compared with the equivalent operations for a single qubit.  The workbook is set up without transpilation and iterates through a number of scaling error factors.\n",
    "\n",
    "1. Set up logical zero for Steane code based  on the parity matrix in the book by Nielsen MA, Chuang IL. Quantum Computation and Quantum Information, 10th Anniversary Edition. Cambridge University Press; 2016. p. 474 \n",
    "\n",
    "2. Set up physical Hadamard, CX and X to produce a physical Bell pair.\n",
    "\n",
    "2. Set up logical Hadamard, CX and X to produce a logical Bell pair.\n",
    "\n",
    "3. Set up the ancilla for the logical qubits\n",
    "\n",
    "4. Attempt to correct the logical data qubits using decoding software.\n",
    "\n",
    "5. Assess how many data qubits would give a valid logical Bell state and compare to the physical qubits.\n",
    "\n",
    "6. Repeat for different noise scaling factors."
   ]
  },
  {
   "cell_type": "markdown",
   "metadata": {},
   "source": [
    "Import the necessary function modules, including the SteaneCodeLogicalQubit class and helper functions."
   ]
  },
  {
   "cell_type": "code",
   "execution_count": 1,
   "metadata": {},
   "outputs": [],
   "source": [
    "from qiskit import(\n",
    "    QuantumCircuit,\n",
    "    QuantumRegister,\n",
    "    ClassicalRegister,\n",
    "    execute,\n",
    "    Aer\n",
    "    )\n",
    "\n",
    "from qiskit.providers.aer.noise import NoiseModel\n",
    "from qiskit.providers.aer.noise.errors import pauli_error, depolarizing_error\n",
    "from qiskit.compiler import transpile\n",
    "\n",
    "from circuits import SteaneCodeLogicalQubit\n",
    "\n",
    "import matplotlib.pyplot as plt\n",
    "import numpy as np\n",
    "from datetime import datetime\n",
    "\n",
    "from helper_functions import (\n",
    "    count_valid_output_strings,\n",
    "    find_individual_ancilla_values,\n",
    "    find_ancilla_values,\n",
    "    find_parity,\n",
    "    get_noise,\n",
    "    summarise_logical_counts,\n",
    "    mean_of_list,\n",
    "    calculate_standard_error,\n",
    "    flip_code_words, \n",
    "    correct_qubit,\n",
    "    convert_codewords,\n",
    "    look_up_data,\n",
    "    print_time,\n",
    "    get_parity_check_matrix,\n",
    "    get_codewords\n",
    "    )"
   ]
  },
  {
   "cell_type": "markdown",
   "metadata": {},
   "source": [
    "Define constants so that the process flow can be controlled from one place:"
   ]
  },
  {
   "cell_type": "code",
   "execution_count": 2,
   "metadata": {},
   "outputs": [],
   "source": [
    "DATA_QUBITS = 7\n",
    "ANCILLA_QUBITS = 3\n",
    "SPACE = ' '\n",
    "FACTOR_LIST = [1, 0.1, 0.01, 0.001, 0.0001]\n",
    "TITLE1 = 'Bell pair fidelity in logical and physical qubits '\n",
    "\n",
    "#use standard gate set without transpilation\n",
    "SINGLE_GATE_SET  = ['id', 'x', 'y', 'z', 'h']\n",
    "TWO_GATE_SET = ['cx', 'cz']\n",
    "\n",
    "NOISE = True                            #Test with noise\n",
    "SHOTS = 100000                          #Number of shots to run    \n",
    "MEASURE_NOISE = 0.0046                  #Measurement noise\n",
    "SINGLE_GATE_DEPOLARISING = 0.000366     #Single gate noise   \n",
    "TWO_GATE_DEPOLARISING = 0.022           #Two gate noise \n",
    "ITERATIONS = 25\n",
    "\n",
    "SIMULATOR = Aer.get_backend('qasm_simulator')"
   ]
  },
  {
   "cell_type": "markdown",
   "metadata": {},
   "source": [
    "Specify the parity check matrix, since this defines the Steane code.  It is validated before the logical qubit is initiated to check that it is orthogonal to the valid codewords."
   ]
  },
  {
   "cell_type": "code",
   "execution_count": 3,
   "metadata": {},
   "outputs": [
    {
     "name": "stdout",
     "output_type": "stream",
     "text": [
      "['0001111', '0110011', '1010101']\n"
     ]
    }
   ],
   "source": [
    "parity_check_matrix = get_parity_check_matrix()\n",
    "print(parity_check_matrix)"
   ]
  },
  {
   "cell_type": "markdown",
   "metadata": {},
   "source": [
    "The allowed codewords for the logical zero from Nielsen and Chuang is stored in a list.  Note, the order of qubits in the list is reversed compared to the normal output of Qiskit."
   ]
  },
  {
   "cell_type": "code",
   "execution_count": 4,
   "metadata": {},
   "outputs": [
    {
     "name": "stdout",
     "output_type": "stream",
     "text": [
      "['0000000', '1010101', '0110011', '1100110', '0001111', '1011010', '0111100', '1101001']\n"
     ]
    }
   ],
   "source": [
    "codewords = get_codewords()\n",
    "print(codewords)"
   ]
  },
  {
   "cell_type": "code",
   "execution_count": 5,
   "metadata": {},
   "outputs": [],
   "source": [
    "#carryout a bit flip of the list of codewords to find the codewords for the logical one.\n",
    "flipped_codewords = flip_code_words(codewords)"
   ]
  },
  {
   "cell_type": "code",
   "execution_count": 6,
   "metadata": {},
   "outputs": [],
   "source": [
    "#The allowed codewords for a single qubit Bell pair\n",
    "bell_valid_codewords = ['01','10']"
   ]
  },
  {
   "cell_type": "markdown",
   "metadata": {},
   "source": [
    "Physical qubits circuit for Bell pair\n",
    "-------------------------------------------------"
   ]
  },
  {
   "cell_type": "markdown",
   "metadata": {},
   "source": [
    "Function module to set up a Bell pair with two physical qubits."
   ]
  },
  {
   "cell_type": "code",
   "execution_count": 7,
   "metadata": {},
   "outputs": [],
   "source": [
    "def execute_physical_qubits(measure_noise, single_gate_depolarising, two_gate_depolarising):\n",
    "    print()\n",
    "    print('Physical qubits Bell pair')\n",
    "    error_rate_list = []\n",
    "    for iteration in range(ITERATIONS):\n",
    "        #print(f'For iteration {iteration}')\n",
    "        qr = QuantumRegister(2,'code_qubit')     # Two code QBits\n",
    "        cr = ClassicalRegister(2,'syndrome_bit') # Two registers\n",
    "        qc = QuantumCircuit(qr, cr)\n",
    "        qc.h(qr[0])\n",
    "        qc.x(qr[1])\n",
    "        qc.cx(qr[0],qr[1])\n",
    "        qc.measure(qr, cr)\n",
    "        #initialise circuit\n",
    "        if NOISE:\n",
    "            noise_model = get_noise(measure_noise, single_gate_depolarising, \n",
    "                                    two_gate_depolarising, SINGLE_GATE_SET , TWO_GATE_SET\n",
    "                                   )\n",
    "        if NOISE:\n",
    "            result = execute(qc, SIMULATOR, noise_model = noise_model, shots = SHOTS).result()\n",
    "        else:\n",
    "            result = execute(qc, SIMULATOR, shots = SHOTS).result()\n",
    "        counts = result.get_counts(qc)\n",
    "        count_valid, count_invalid, _ = count_valid_output_strings(counts, bell_valid_codewords, 0)\n",
    "        #print(f'The results are {counts}')\n",
    "        #print(f'Valid codewords {bell_valid_codewords}')      \n",
    "        error_rate = count_invalid / SHOTS\n",
    "        #print(f'The error rate is {error_rate:.4f}')\n",
    "        #print()\n",
    "        error_rate_list.append(error_rate)\n",
    "    mean_error_physical = mean_of_list(error_rate_list)\n",
    "    standard_deviation_physical, standard_error_physical = calculate_standard_error(error_rate_list)\n",
    "    print(f'The mean error rate is {mean_error_physical:.8f} and the standard error is {standard_error_physical:.8f}')\n",
    "    return(mean_error_physical, standard_error_physical)"
   ]
  },
  {
   "cell_type": "markdown",
   "metadata": {},
   "source": [
    "Logical Bell pair\n",
    "-----------------------"
   ]
  },
  {
   "cell_type": "markdown",
   "metadata": {},
   "source": [
    "Function module to set up the Bell pair with two logical qubits."
   ]
  },
  {
   "cell_type": "code",
   "execution_count": 8,
   "metadata": {},
   "outputs": [],
   "source": [
    "def set_up_circuit():\n",
    "    qubit = SteaneCodeLogicalQubit(2, parity_check_matrix, codewords)\n",
    "    for index in range(2):\n",
    "        qubit.set_up_logical_zero(index)\n",
    "    qubit.barrier()\n",
    "    qubit.logical_gate_H(0)\n",
    "    qubit.logical_gate_X(1)    \n",
    "    qubit.logical_gate_CX(0, 1)\n",
    "    qubit.barrier()\n",
    "    for index in range(2):\n",
    "        qubit.set_up_ancilla(index)\n",
    "        qubit.barrier()\n",
    "        qubit.logical_measure_data(index)\n",
    "        qubit.logical_measure_ancilla(index)\n",
    "    return(qubit)"
   ]
  },
  {
   "cell_type": "markdown",
   "metadata": {},
   "source": [
    "Function module to execute the logical Bell pair.  For items in the counts dictionary the data qubits are corrected based on the ancilla measurements.  Each data qubit measurements is then decoded to:\n",
    " - 0 if the bit string is in the set of logical zero bitstring\n",
    " - 1 if the bit string is in the set of logical one bitstring\n",
    " - 2 if the bitstring is outside the codespace of valid bitstrings\n",
    "\n",
    "A check is made to find out if the string of two bits after decoding is in the set of valid bell pairs {'01' and '10'}\n",
    "Finally the results of the calculation are summarised and returned."
   ]
  },
  {
   "cell_type": "code",
   "execution_count": 9,
   "metadata": {},
   "outputs": [],
   "source": [
    "def execute_logical_qubits(measure_noise, single_gate_depolarising, two_gate_depolarising):\n",
    "    print()\n",
    "    print('Logical qubits Bell pair')\n",
    "    corrected_key =''\n",
    "    invalid_list = []\n",
    "    valid_list = []\n",
    "    for iteration in range(ITERATIONS):\n",
    "        corrected_counts = {}\n",
    "        new_counts = {}\n",
    "        qubit = set_up_circuit()\n",
    "        if NOISE:\n",
    "                noise_model = get_noise(measure_noise, single_gate_depolarising, \n",
    "                                        two_gate_depolarising, SINGLE_GATE_SET , TWO_GATE_SET\n",
    "                                       )\n",
    "                result = execute(qubit, SIMULATOR, noise_model = noise_model, shots = SHOTS).result()\n",
    "        else:\n",
    "                result = execute(qubit, SIMULATOR, shots = SHOTS).result()\n",
    "        counts = result.get_counts(qubit)\n",
    "        corrected_data = []\n",
    "        for key, values in counts.items():\n",
    "            #print('key, values', key, values)\n",
    "            # Z ancilla2\n",
    "            key0 = key.split()[0]\n",
    "            # X ancilla2\n",
    "            key1 = key.split()[1]\n",
    "            #data qubits2\n",
    "            key2 = key.split()[2]\n",
    "            # Z ancilla1\n",
    "            key3 = key.split()[3]\n",
    "            # X ancilla1\n",
    "            key4 = key.split()[4]\n",
    "            #data qubits1\n",
    "            key5 = key.split()[5]           \n",
    "            corrected_data0 = correct_qubit(key2, key0, DATA_QUBITS)\n",
    "            corrected_data1 = correct_qubit(key5, key3, DATA_QUBITS)\n",
    "            corrected_key = key0 + SPACE + key1 + SPACE + corrected_data0 + SPACE\n",
    "            corrected_key = corrected_key + key3 + SPACE + key4 + SPACE + corrected_data1\n",
    "            value_found = corrected_counts.get(corrected_key)\n",
    "            if value_found:\n",
    "                corrected_counts[corrected_key] = value_found + values\n",
    "            else:\n",
    "                corrected_counts.update({corrected_key: values})  \n",
    "        new_counts = summarise_logical_counts(corrected_counts, codewords, flipped_codewords, 2, 5)  \n",
    "        count_valid, count_invalid, _ = count_valid_output_strings(new_counts, bell_valid_codewords, 0)\n",
    "        invalid_list.append(count_invalid)\n",
    "        valid_list.append(count_valid)\n",
    "    mean_invalid = mean_of_list(invalid_list)\n",
    "    total_valid = sum(valid_list)\n",
    "    total_invalid = sum(invalid_list)\n",
    "    total_all = total_valid + total_invalid\n",
    "    print(f'There were {total_valid} valid shots and {total_invalid} invalid shots giving {total_all} in total')\n",
    "    mean_error_logical = mean_invalid / SHOTS\n",
    "    standard_deviation, standard_error = calculate_standard_error(invalid_list)\n",
    "    standard_error_logical = standard_error / SHOTS\n",
    "    print(f'On average there are {mean_invalid:.1f} invalid codewords with a standard error of {standard_error:.1f}')\n",
    "    print(f'The mean error rate for a single qubit is {mean_error_logical :.8f} and the standard error is {standard_error_logical:.8f}')\n",
    "    return(mean_error_logical, standard_error_logical)"
   ]
  },
  {
   "cell_type": "markdown",
   "metadata": {},
   "source": [
    "Function for plotting graph"
   ]
  },
  {
   "cell_type": "code",
   "execution_count": 10,
   "metadata": {},
   "outputs": [],
   "source": [
    "def plot_graph(title, factor_list, physical_list, logical_list, physical_error_list, logical_error_list):\n",
    "    plt.plot(factor_list, physical_list, '.',color = '#ff8333',linestyle = '', label = 'Physical Qubits')\n",
    "    plt.plot(factor_list, logical_list, '.',color = '#8333ff', linestyle = '',label = 'Logical Qubits')\n",
    "    plt.errorbar(factor_list, physical_list, yerr = physical_error_list, color = '#ff8333' )\n",
    "    plt.errorbar(factor_list, logical_list, yerr = logical_error_list, color = '#8333ff' )\n",
    "    plt.xlabel('Error scaling factor')\n",
    "    plt.ylabel('Error rate')\n",
    "    plt.title(title, fontsize = '8')\n",
    "    plt.xscale(\"log\")\n",
    "    plt.yscale(\"log\")\n",
    "    plt.legend(fontsize = '8')\n",
    "    fname = '/.graphs/' + title + '.png'\n",
    "    plt.savefig(title)"
   ]
  },
  {
   "cell_type": "markdown",
   "metadata": {},
   "source": [
    "Iterate through different noise scaling factor for physical and logical Bell pairs and append results to lists used for graphs.  The different noise scenarios are considered in turn because the simulations might take a long time to run."
   ]
  },
  {
   "cell_type": "code",
   "execution_count": 11,
   "metadata": {},
   "outputs": [
    {
     "name": "stdout",
     "output_type": "stream",
     "text": [
      "Running with normal noise\n",
      "\n",
      "Processing error scaling factor 1\n",
      "Current Time = 15:11:48\n",
      "\n",
      "Physical qubits Bell pair\n",
      "The mean error rate is 0.03064720 and the standard error is 0.00010487\n",
      "\n",
      "Logical qubits Bell pair\n",
      "There were 1125601 valid shots and 1374399 invalid shots giving 2500000 in total\n",
      "On average there are 54976.0 invalid codewords with a standard error of 38.0\n",
      "The mean error rate for a single qubit is 0.54975960 and the standard error is 0.00037976\n",
      "\n",
      "Processing error scaling factor 0.1\n",
      "Current Time = 15:25:29\n",
      "\n",
      "Physical qubits Bell pair\n",
      "The mean error rate is 0.00312720 and the standard error is 0.00003386\n",
      "\n",
      "Logical qubits Bell pair\n",
      "There were 2323070 valid shots and 176930 invalid shots giving 2500000 in total\n",
      "On average there are 7077.2 invalid codewords with a standard error of 21.6\n",
      "The mean error rate for a single qubit is 0.07077200 and the standard error is 0.00021555\n",
      "\n",
      "Processing error scaling factor 0.01\n",
      "Current Time = 15:38:51\n",
      "\n",
      "Physical qubits Bell pair\n",
      "The mean error rate is 0.00031440 and the standard error is 0.00001218\n",
      "\n",
      "Logical qubits Bell pair\n",
      "There were 2482026 valid shots and 17974 invalid shots giving 2500000 in total\n",
      "On average there are 719.0 invalid codewords with a standard error of 4.9\n",
      "The mean error rate for a single qubit is 0.00718960 and the standard error is 0.00004865\n",
      "\n",
      "Processing error scaling factor 0.001\n",
      "Current Time = 15:52:26\n",
      "\n",
      "Physical qubits Bell pair\n",
      "The mean error rate is 0.00002600 and the standard error is 0.00000346\n",
      "\n",
      "Logical qubits Bell pair\n",
      "There were 2498186 valid shots and 1814 invalid shots giving 2500000 in total\n",
      "On average there are 72.6 invalid codewords with a standard error of 1.9\n",
      "The mean error rate for a single qubit is 0.00072560 and the standard error is 0.00001874\n",
      "\n",
      "Processing error scaling factor 0.0001\n",
      "Current Time = 16:06:10\n",
      "\n",
      "Physical qubits Bell pair\n",
      "The mean error rate is 0.00000320 and the standard error is 0.00000111\n",
      "\n",
      "Logical qubits Bell pair\n",
      "There were 2499818 valid shots and 182 invalid shots giving 2500000 in total\n",
      "On average there are 7.3 invalid codewords with a standard error of 0.5\n",
      "The mean error rate for a single qubit is 0.00007280 and the standard error is 0.00000531\n"
     ]
    },
    {
     "data": {
      "image/png": "[encoded data removed]",
      "text/plain": [
       "<Figure size 432x288 with 1 Axes>"
      ]
     },
     "metadata": {
      "needs_background": "light"
     },
     "output_type": "display_data"
    }
   ],
   "source": [
    "physical_list = []\n",
    "logical_list = []\n",
    "physical_error_list = []\n",
    "logical_error_list = []\n",
    "title2 = 'with normal noise'\n",
    "print('Running with normal noise')\n",
    "for factor in FACTOR_LIST:\n",
    "    print()\n",
    "    print(f'Processing error scaling factor {factor}')\n",
    "    print_time()\n",
    "    measure_noise = MEASURE_NOISE * factor\n",
    "    single_gate_depolarising = SINGLE_GATE_DEPOLARISING * factor\n",
    "    two_gate_depolarising = TWO_GATE_DEPOLARISING * factor\n",
    "    \n",
    "    mean_error, standard_error = execute_physical_qubits(measure_noise, single_gate_depolarising, two_gate_depolarising)\n",
    "    physical_list.append(mean_error)\n",
    "    physical_error_list.append(standard_error)\n",
    "    \n",
    "    mean_error, standard_error = execute_logical_qubits(measure_noise, single_gate_depolarising, two_gate_depolarising)\n",
    "    logical_list.append(mean_error)\n",
    "    logical_error_list.append(standard_error)\n",
    "title = TITLE1 + title2\n",
    "plot_graph(title, FACTOR_LIST, physical_list, logical_list, physical_error_list, logical_error_list)"
   ]
  },
  {
   "cell_type": "code",
   "execution_count": 12,
   "metadata": {},
   "outputs": [
    {
     "name": "stdout",
     "output_type": "stream",
     "text": [
      "Running without measure noise\n",
      "Processing error scaling factor 1\n",
      "Current Time = 16:19:40\n",
      "\n",
      "Physical qubits Bell pair\n",
      "The mean error rate is 0.02210520 and the standard error is 0.00008188\n",
      "\n",
      "Logical qubits Bell pair\n",
      "There were 1228729 valid shots and 1271271 invalid shots giving 2500000 in total\n",
      "On average there are 50850.8 invalid codewords with a standard error of 30.0\n",
      "The mean error rate for a single qubit is 0.50850840 and the standard error is 0.00029986\n",
      "Processing error scaling factor 0.1\n",
      "Current Time = 16:33:09\n",
      "\n",
      "Physical qubits Bell pair\n",
      "The mean error rate is 0.00218040 and the standard error is 0.00002553\n",
      "\n",
      "Logical qubits Bell pair\n",
      "There were 2344002 valid shots and 155998 invalid shots giving 2500000 in total\n",
      "On average there are 6239.9 invalid codewords with a standard error of 15.8\n",
      "The mean error rate for a single qubit is 0.06239920 and the standard error is 0.00015787\n",
      "Processing error scaling factor 0.01\n",
      "Current Time = 16:46:40\n",
      "\n",
      "Physical qubits Bell pair\n",
      "The mean error rate is 0.00022200 and the standard error is 0.00001095\n",
      "\n",
      "Logical qubits Bell pair\n",
      "There were 2484347 valid shots and 15653 invalid shots giving 2500000 in total\n",
      "On average there are 626.1 invalid codewords with a standard error of 4.9\n",
      "The mean error rate for a single qubit is 0.00626120 and the standard error is 0.00004946\n",
      "Processing error scaling factor 0.001\n",
      "Current Time = 17:00:11\n",
      "\n",
      "Physical qubits Bell pair\n",
      "The mean error rate is 0.00002160 and the standard error is 0.00000206\n",
      "\n",
      "Logical qubits Bell pair\n",
      "There were 2498441 valid shots and 1559 invalid shots giving 2500000 in total\n",
      "On average there are 62.4 invalid codewords with a standard error of 1.6\n",
      "The mean error rate for a single qubit is 0.00062360 and the standard error is 0.00001598\n",
      "Processing error scaling factor 0.0001\n",
      "Current Time = 17:13:21\n",
      "\n",
      "Physical qubits Bell pair\n",
      "The mean error rate is 0.00000200 and the standard error is 0.00000082\n",
      "\n",
      "Logical qubits Bell pair\n",
      "There were 2499857 valid shots and 143 invalid shots giving 2500000 in total\n",
      "On average there are 5.7 invalid codewords with a standard error of 0.4\n",
      "The mean error rate for a single qubit is 0.00005720 and the standard error is 0.00000414\n"
     ]
    },
    {
     "data": {
      "image/png": "[encoded data removed]",
      "text/plain": [
       "<Figure size 432x288 with 1 Axes>"
      ]
     },
     "metadata": {
      "needs_background": "light"
     },
     "output_type": "display_data"
    }
   ],
   "source": [
    "physical_list = []\n",
    "logical_list = []\n",
    "physical_error_list = []\n",
    "logical_error_list = []\n",
    "title2 = 'with no measure noise'\n",
    "print('Running without measure noise')\n",
    "for factor in FACTOR_LIST:\n",
    "    print(f'Processing error scaling factor {factor}')\n",
    "    print_time()\n",
    "    measure_noise = 0\n",
    "    single_gate_depolarising = SINGLE_GATE_DEPOLARISING * factor\n",
    "    two_gate_depolarising = TWO_GATE_DEPOLARISING * factor\n",
    "    \n",
    "    mean_error, standard_error = execute_physical_qubits(measure_noise, single_gate_depolarising, two_gate_depolarising)\n",
    "    physical_list.append(mean_error)\n",
    "    physical_error_list.append(standard_error)\n",
    "    \n",
    "    mean_error, standard_error = execute_logical_qubits(measure_noise, single_gate_depolarising, two_gate_depolarising)\n",
    "    logical_list.append(mean_error)\n",
    "    logical_error_list.append(standard_error)\n",
    "title = TITLE1 + title2\n",
    "plot_graph(title, FACTOR_LIST, physical_list, logical_list, physical_error_list, logical_error_list)"
   ]
  },
  {
   "cell_type": "code",
   "execution_count": 13,
   "metadata": {},
   "outputs": [
    {
     "name": "stdout",
     "output_type": "stream",
     "text": [
      "Running with single and two gate noises same\n",
      "Processing error scaling factor 1\n",
      "Current Time = 17:26:32\n",
      "\n",
      "Physical qubits Bell pair\n",
      "The mean error rate is 0.02200600 and the standard error is 0.00010175\n",
      "\n",
      "Logical qubits Bell pair\n",
      "There were 1228809 valid shots and 1271191 invalid shots giving 2500000 in total\n",
      "On average there are 50847.6 invalid codewords with a standard error of 37.3\n",
      "The mean error rate for a single qubit is 0.50847640 and the standard error is 0.00037291\n",
      "Processing error scaling factor 0.1\n",
      "Current Time = 17:40:08\n",
      "\n",
      "Physical qubits Bell pair\n",
      "The mean error rate is 0.00217200 and the standard error is 0.00003285\n",
      "\n",
      "Logical qubits Bell pair\n",
      "There were 2343605 valid shots and 156395 invalid shots giving 2500000 in total\n",
      "On average there are 6255.8 invalid codewords with a standard error of 18.0\n",
      "The mean error rate for a single qubit is 0.06255800 and the standard error is 0.00017988\n",
      "Processing error scaling factor 0.01\n",
      "Current Time = 17:54:02\n",
      "\n",
      "Physical qubits Bell pair\n",
      "The mean error rate is 0.00024080 and the standard error is 0.00001281\n",
      "\n",
      "Logical qubits Bell pair\n",
      "There were 2484089 valid shots and 15911 invalid shots giving 2500000 in total\n",
      "On average there are 636.4 invalid codewords with a standard error of 3.7\n",
      "The mean error rate for a single qubit is 0.00636440 and the standard error is 0.00003650\n",
      "Processing error scaling factor 0.001\n",
      "Current Time = 18:07:40\n",
      "\n",
      "Physical qubits Bell pair\n",
      "The mean error rate is 0.00001880 and the standard error is 0.00000273\n",
      "\n",
      "Logical qubits Bell pair\n",
      "There were 2498492 valid shots and 1508 invalid shots giving 2500000 in total\n",
      "On average there are 60.3 invalid codewords with a standard error of 1.4\n",
      "The mean error rate for a single qubit is 0.00060320 and the standard error is 0.00001391\n",
      "Processing error scaling factor 0.0001\n",
      "Current Time = 18:20:58\n",
      "\n",
      "Physical qubits Bell pair\n",
      "The mean error rate is 0.00000200 and the standard error is 0.00000100\n",
      "\n",
      "Logical qubits Bell pair\n",
      "There were 2499843 valid shots and 157 invalid shots giving 2500000 in total\n",
      "On average there are 6.3 invalid codewords with a standard error of 0.4\n",
      "The mean error rate for a single qubit is 0.00006280 and the standard error is 0.00000398\n"
     ]
    },
    {
     "data": {
      "image/png": "[encoded data removed]",
      "text/plain": [
       "<Figure size 432x288 with 1 Axes>"
      ]
     },
     "metadata": {
      "needs_background": "light"
     },
     "output_type": "display_data"
    }
   ],
   "source": [
    "physical_list = []\n",
    "logical_list = []\n",
    "physical_error_list = []\n",
    "logical_error_list = []\n",
    "title2 = 'with same single and two gate noise'\n",
    "print('Running with single and two gate noises same')\n",
    "for factor in FACTOR_LIST:\n",
    "    print(f'Processing error scaling factor {factor}')\n",
    "    print_time()\n",
    "    measure_noise = 0\n",
    "    single_gate_depolarising = SINGLE_GATE_DEPOLARISING * factor\n",
    "    two_gate_depolarising = TWO_GATE_DEPOLARISING * factor\n",
    "    \n",
    "    mean_error, standard_error = execute_physical_qubits(measure_noise, single_gate_depolarising, two_gate_depolarising)\n",
    "    physical_list.append(mean_error)\n",
    "    physical_error_list.append(standard_error)\n",
    "    \n",
    "    mean_error, standard_error = execute_logical_qubits(measure_noise, single_gate_depolarising, two_gate_depolarising)\n",
    "    logical_list.append(mean_error)\n",
    "    logical_error_list.append(standard_error)\n",
    "title = TITLE1 + title2\n",
    "plot_graph(title, FACTOR_LIST, physical_list, logical_list, physical_error_list, logical_error_list)"
   ]
  },
  {
   "cell_type": "code",
   "execution_count": null,
   "metadata": {},
   "outputs": [],
   "source": []
  }
 ],
 "metadata": {
  "interpreter": {
   "hash": "bce8fa9fbc203f16ab824739bfe2fff4e777c5492be5e63b66d9b944743a7909"
  },
  "kernelspec": {
   "display_name": "Python 3",
   "language": "python",
   "name": "python3"
  },
  "language_info": {
   "codemirror_mode": {
    "name": "ipython",
    "version": 3
   },
   "file_extension": ".py",
   "mimetype": "text/x-python",
   "name": "python",
   "nbconvert_exporter": "python",
   "pygments_lexer": "ipython3",
   "version": "3.8.10"
  }
 },
 "nbformat": 4,
 "nbformat_minor": 4
}
