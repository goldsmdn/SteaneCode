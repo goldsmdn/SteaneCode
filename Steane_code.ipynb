{
 "cells": [
  {
   "cell_type": "markdown",
   "metadata": {},
   "source": [
    "Steane code\n",
    "==========\n",
    "\n",
    "1. Set up logical zero for Steane code based  on the parity matrix in the book by Nielsen MA, Chuang IL. Quantum Computation and Quantum Information, 10th Anniversary Edition. Cambridge University Press; 2016. p. 474\n",
    "\n",
    "2. Perform a logical Hadamard\n",
    "\n",
    "3. Peform a logical CX to entangle the two logical qubits \n",
    "\n",
    "4. Set up ancilla based on the parity matrix\n",
    "\n",
    "5. Set up an error correcting circuit\n",
    "\n",
    "5. Decode the qubit"
   ]
  },
  {
   "cell_type": "markdown",
   "metadata": {},
   "source": [
    "Import the necessary function modules, including the SteaneCodeLogicalQubit class.  The methods of this class are called in this notebook."
   ]
  },
  {
   "cell_type": "code",
   "execution_count": 1,
   "metadata": {},
   "outputs": [],
   "source": [
    "from qiskit import(\n",
    "    QuantumCircuit,\n",
    "    QuantumRegister,\n",
    "    ClassicalRegister,\n",
    "    execute,\n",
    "    Aer\n",
    "    )\n",
    "\n",
    "from qiskit.providers.aer.noise import NoiseModel\n",
    "from qiskit.providers.aer.noise.errors import pauli_error, depolarizing_error\n",
    "\n",
    "from circuits import SteaneCodeLogicalQubit\n",
    "\n",
    "from helper_functions import (\n",
    "    get_noise,\n",
    "    get_parity_check_matrix,\n",
    "    get_codewords,\n",
    "    count_valid_output_strings\n",
    "    )"
   ]
  },
  {
   "cell_type": "markdown",
   "metadata": {},
   "source": [
    "Define constants so the process flow can be controlled from one place:"
   ]
  },
  {
   "cell_type": "code",
   "execution_count": 2,
   "metadata": {},
   "outputs": [],
   "source": [
    "SINGLE_GATE_ERRORS = ['x', 'y', 'z', 'h', 's', 'sdg']\n",
    "TWO_GATE_ERRORS = ['cx', 'cz']\n",
    "\n",
    "FIRST_LOGICAL = True                     #Set up first logical qubit?\n",
    "SECOND_LOGICAL = False                   #Set up second logical qubit?  NB, error correction is not possible with two logical qubits\n",
    "\n",
    "FIRST_LOGICAL_ONE = True\n",
    "SECOND_LOGICAL_ONE = False\n",
    "\n",
    "FIRST_LOGICAL_X = False                  #Apply logical X operation? \n",
    "SECOND_LOGICAL_X = False                 #Apply logical X operation? \n",
    "\n",
    "FIRST_LOGICAL_H = False                  #Hadamard on first logical qbit\n",
    "SECOND_LOGICAL_H = False                 #Hadamard on second logical qbit\n",
    "\n",
    "FIRST_DECODE = False                     #Decode the first logical qubit\n",
    "SECOND_DECODE = False                    #Decond the second logical qubit\n",
    "FIRST_SIMPLE_DECODE = True              #Simple decode for the first logical qubit\n",
    "SECOND_SIMPLE_DECODE = False             #Simple decode for the second logical qubit\n",
    "\n",
    "REDUCED = True                           #Reduce the encoding circuit if possible\n",
    "\n",
    "LOGICAL_CX = False                       #Logical CX\n",
    "CX_CONTROL = 1                           #Logical control bit\n",
    "CX_TARGET = 0                            #Logical target bit\n",
    "\n",
    "CORRECT_ERROR = False                     #Correct errors\n",
    "ANCILLAS = False                          #Ancillas are active?\n",
    "MCT = False                               #Use MCT\n",
    "EXTEND_ANCILLA = False                    #Correct errors (NB, can only do this with one logical QUBIT)\n",
    "TESTING = False                           #Test by applying and X or Z error to one of the qubits\n",
    "TEST_X_QUBIT = 0                         #Qbit to set bit flip- Starts at zero.\n",
    "TEST_X_LOGICAL = 0                       #logical Qbit to set bit flip- Starts at zero.\n",
    "TEST_Z_QUBIT = 6                         #Qbit to phase flip- Starts at zero.\n",
    "TEST_Z_LOGICAL = 0                       #logical Qbit to set phase flip- Starts at zero.\n",
    "\n",
    "NOISE = False                            #Test with noise\n",
    "SHOTS = 100                              #Number of shots to run    \n",
    "MEASURE_NOISE = 0.0046                   #Measurement noise not relevant\n",
    "SINGLE_GATE_DEPOLARISING = 0.000366      #Single gate noise   \n",
    "TWO_GATE_DEPOLARISING = 0.022\n",
    "\n",
    "SIMULATOR = Aer.get_backend('qasm_simulator')"
   ]
  },
  {
   "cell_type": "markdown",
   "metadata": {},
   "source": [
    "We specify the parity check matrix, since this defines the Steane code.  It is validated before the logical qubit is initiated to check that it is orthogonal to the valid codewords."
   ]
  },
  {
   "cell_type": "code",
   "execution_count": 3,
   "metadata": {},
   "outputs": [
    {
     "name": "stdout",
     "output_type": "stream",
     "text": [
      "['0001111', '0110011', '1010101']\n",
      "7\n"
     ]
    }
   ],
   "source": [
    "parity_check_matrix = get_parity_check_matrix()\n",
    "print(parity_check_matrix)\n",
    "print(len(parity_check_matrix[0]))"
   ]
  },
  {
   "cell_type": "code",
   "execution_count": 4,
   "metadata": {},
   "outputs": [
    {
     "name": "stdout",
     "output_type": "stream",
     "text": [
      "['0000000', '1010101', '0110011', '1100110', '0001111', '1011010', '0111100', '1101001']\n"
     ]
    }
   ],
   "source": [
    "codewords = get_codewords()\n",
    "print(codewords)"
   ]
  },
  {
   "cell_type": "markdown",
   "metadata": {},
   "source": [
    "Create an instance of the logical qubits needed.  The parity check matrix above as an input.\n",
    "\n",
    "The number of qubits needed is an argument to the class and should be 1 or 2 at present."
   ]
  },
  {
   "cell_type": "code",
   "execution_count": 5,
   "metadata": {},
   "outputs": [],
   "source": [
    "if SECOND_LOGICAL:\n",
    "    qubit = SteaneCodeLogicalQubit(2, parity_check_matrix, codewords, ANCILLAS, EXTEND_ANCILLA)\n",
    "else:\n",
    "    qubit = SteaneCodeLogicalQubit(1, parity_check_matrix, codewords, ANCILLAS, EXTEND_ANCILLA)"
   ]
  },
  {
   "cell_type": "markdown",
   "metadata": {},
   "source": [
    "Use a method to initialise the logical qubits as a logical zero as required."
   ]
  },
  {
   "cell_type": "code",
   "execution_count": 6,
   "metadata": {},
   "outputs": [
    {
     "data": {
      "text/plain": [
       "<qiskit.circuit.instructionset.InstructionSet at 0x23c7fcb1be0>"
      ]
     },
     "execution_count": 6,
     "metadata": {},
     "output_type": "execute_result"
    }
   ],
   "source": [
    "if FIRST_LOGICAL:\n",
    "    qubit.set_up_logical_zero(0, REDUCED, FIRST_LOGICAL_ONE)\n",
    "if SECOND_LOGICAL:\n",
    "    qubit.set_up_logical_zero(0, REDUCED, SECOND_LOGICAL_ONE)\n",
    "qubit.barrier()"
   ]
  },
  {
   "cell_type": "markdown",
   "metadata": {},
   "source": [
    "If TESTING is active we test the ancilla with an X and Z error and check that the correct error syndrome is returned."
   ]
  },
  {
   "cell_type": "code",
   "execution_count": 7,
   "metadata": {},
   "outputs": [],
   "source": [
    "if TESTING:\n",
    "    qubit.force_X_error(TEST_X_QUBIT,TEST_X_LOGICAL)   #force X error for testing\n",
    "    #qubit.force_Z_error(TEST_Z_QUBIT,TEST_Z_LOGICAL)   #force Z error for testing\n",
    "    qubit.barrier()"
   ]
  },
  {
   "cell_type": "markdown",
   "metadata": {},
   "source": [
    "Set up ancilla and make a logical measurement"
   ]
  },
  {
   "cell_type": "code",
   "execution_count": 8,
   "metadata": {},
   "outputs": [],
   "source": [
    "if ANCILLAS:\n",
    "    qubit.set_up_ancilla(0)\n",
    "    if SECOND_LOGICAL:\n",
    "        qubit.set_up_ancilla(1)\n",
    "    qubit.barrier()"
   ]
  },
  {
   "cell_type": "markdown",
   "metadata": {},
   "source": [
    "Correct errors found in ancilla.  NB at present errors can only be corrected if one qubit is simulated due to memory constaints."
   ]
  },
  {
   "cell_type": "code",
   "execution_count": 9,
   "metadata": {},
   "outputs": [],
   "source": [
    "if CORRECT_ERROR:\n",
    "    qubit.correct_errors(0, MCT)\n",
    "    qubit.barrier()"
   ]
  },
  {
   "cell_type": "markdown",
   "metadata": {},
   "source": [
    "Apply logical X gate"
   ]
  },
  {
   "cell_type": "code",
   "execution_count": 10,
   "metadata": {},
   "outputs": [],
   "source": [
    "if FIRST_LOGICAL_X:\n",
    "    qubit.logical_gate_X(0)\n",
    "    qubit.barrier()\n",
    "if SECOND_LOGICAL_X:\n",
    "    qubit.logical_gate_X(1)\n",
    "    qubit.barrier()"
   ]
  },
  {
   "cell_type": "markdown",
   "metadata": {},
   "source": [
    "Apply logical Hadamard"
   ]
  },
  {
   "cell_type": "code",
   "execution_count": 11,
   "metadata": {},
   "outputs": [],
   "source": [
    "if FIRST_LOGICAL_H:\n",
    "    qubit.logical_gate_H(0)\n",
    "    qubit.barrier()\n",
    "if SECOND_LOGICAL_H:\n",
    "    qubit.logical_gate_H(1)\n",
    "    qubit.barrier()"
   ]
  },
  {
   "cell_type": "markdown",
   "metadata": {},
   "source": [
    "Apply logical CX"
   ]
  },
  {
   "cell_type": "code",
   "execution_count": 12,
   "metadata": {},
   "outputs": [],
   "source": [
    "if LOGICAL_CX:\n",
    "    qubit.logical_gate_CX(CX_CONTROL,CX_TARGET)\n",
    "    qubit.barrier()"
   ]
  },
  {
   "cell_type": "markdown",
   "metadata": {},
   "source": [
    "Uncompute initialisation of logical qubit"
   ]
  },
  {
   "cell_type": "code",
   "execution_count": 13,
   "metadata": {},
   "outputs": [],
   "source": [
    "if FIRST_DECODE:\n",
    "    qubit.decode(0, REDUCED, FIRST_SIMPLE_DECODE)\n",
    "    if SECOND_DECODE:\n",
    "        qubit.decode(1, REDUCED, SECOND_SIMPLE_DECODE)\n",
    "    qubit.barrier()"
   ]
  },
  {
   "cell_type": "code",
   "execution_count": 14,
   "metadata": {},
   "outputs": [],
   "source": [
    "if NOISE:\n",
    "    noise_model = get_noise(MEASURE_NOISE, SINGLE_GATE_DEPOLARISING, TWO_GATE_DEPOLARISING, SINGLE_GATE_ERRORS, TWO_GATE_ERRORS )"
   ]
  },
  {
   "cell_type": "markdown",
   "metadata": {},
   "source": [
    "Measure qubits"
   ]
  },
  {
   "cell_type": "code",
   "execution_count": 15,
   "metadata": {},
   "outputs": [
    {
     "data": {
      "text/plain": [
       "<qiskit.circuit.instructionset.InstructionSet at 0x23c7fdc81f0>"
      ]
     },
     "execution_count": 15,
     "metadata": {},
     "output_type": "execute_result"
    }
   ],
   "source": [
    "qubit.logical_measure_data(0)\n",
    "if ANCILLAS:\n",
    "    qubit.logical_measure_ancilla(0)\n",
    "if SECOND_LOGICAL:\n",
    "    qubit.logical_measure_data(1)\n",
    "    if ANCILLAS:\n",
    "        qubit.logical_measure_ancilla(1)\n",
    "qubit.barrier()"
   ]
  },
  {
   "cell_type": "code",
   "execution_count": 16,
   "metadata": {},
   "outputs": [],
   "source": [
    "#Measurement noise\n",
    "if NOISE:\n",
    "    result = execute(qubit, SIMULATOR, noise_model = noise_model, shots = SHOTS).result()\n",
    "else:\n",
    "    result = execute(qubit, SIMULATOR, shots = SHOTS).result()"
   ]
  },
  {
   "cell_type": "markdown",
   "metadata": {},
   "source": [
    "Execute results and print out.  The format is three bits for the X error address (logical Z), three bits for the Z error address (logical X) and seven bits for the Steane data bit. "
   ]
  },
  {
   "cell_type": "code",
   "execution_count": 17,
   "metadata": {},
   "outputs": [
    {
     "name": "stdout",
     "output_type": "stream",
     "text": [
      "The different states can be counted.  The simulated result are {'0011001': 17, '0101010': 17, '0110100': 9, '1001100': 12, '1010010': 9, '1100001': 13, '0000111': 11, '1111111': 12}\n"
     ]
    }
   ],
   "source": [
    "counts = result.get_counts(qubit)\n",
    "print ('The different states can be counted.  The simulated result are', counts)"
   ]
  },
  {
   "cell_type": "markdown",
   "metadata": {},
   "source": [
    "Print out circuit:"
   ]
  },
  {
   "cell_type": "code",
   "execution_count": 18,
   "metadata": {},
   "outputs": [
    {
     "data": {
      "image/png": "[encoded data removed]",
      "text/plain": [
       "<Figure size 1492.71x505.68 with 1 Axes>"
      ]
     },
     "execution_count": 18,
     "metadata": {},
     "output_type": "execute_result"
    }
   ],
   "source": [
    "qubit.draw(output='mpl', filename = './circuits/Steane_code_circuit.jpg', fold = 44)"
   ]
  }
 ],
 "metadata": {
  "kernelspec": {
   "display_name": "Python 3",
   "language": "python",
   "name": "python3"
  },
  "language_info": {
   "codemirror_mode": {
    "name": "ipython",
    "version": 3
   },
   "file_extension": ".py",
   "mimetype": "text/x-python",
   "name": "python",
   "nbconvert_exporter": "python",
   "pygments_lexer": "ipython3",
   "version": "3.8.10"
  }
 },
 "nbformat": 4,
 "nbformat_minor": 4
}
