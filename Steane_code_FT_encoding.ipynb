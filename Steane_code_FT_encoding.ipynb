{
 "cells": [
  {
   "cell_type": "markdown",
   "metadata": {},
   "source": [
    "Steane code encoding fault tolerance\n",
    "=============================== \n",
    "\n",
    "1. Set up two logical zero for Steane code based  on the parity matrix in the book by Nielsen MA, Chuang IL. Quantum Computation and Quantum Information, 10th Anniversary Edition. Cambridge University Press; 2016. p. 474\n",
    "\n",
    "2. Set up fault tolerance as per scheme B and C from Goto H. Minimizing resource overheads for fault-tolerant preparation of encoded states of the Steane code. Sci Rep. 2016 Jan 27;6:19578. \n",
    "\n",
    "3. Compare this with the non fault tolerant encoding circuit and a single qubit.\n",
    "\n",
    "3. Find out if either scheme have a tolerance."
   ]
  },
  {
   "cell_type": "markdown",
   "metadata": {},
   "source": [
    "Import the necessary function modules, including the SteaneCodeLogicalQubit class.  The methods of this class are called in this notebook."
   ]
  },
  {
   "cell_type": "code",
   "execution_count": 1,
   "metadata": {},
   "outputs": [],
   "source": [
    "from qiskit import(\n",
    "    QuantumCircuit,\n",
    "    QuantumRegister,\n",
    "    ClassicalRegister,\n",
    "    execute,\n",
    "    Aer\n",
    "    )\n",
    "\n",
    "from qiskit.providers.aer.noise import NoiseModel\n",
    "from qiskit.providers.aer.noise.errors import pauli_error, depolarizing_error\n",
    "\n",
    "from circuits import SteaneCodeLogicalQubit\n",
    "\n",
    "from helper_functions import (\n",
    "    get_noise, \n",
    "    mean_of_list,\n",
    "    calculate_standard_error,\n",
    "    print_time,\n",
    "    process_FT_results\n",
    "    )\n",
    "\n",
    "import matplotlib.pyplot as plt"
   ]
  },
  {
   "cell_type": "markdown",
   "metadata": {},
   "source": [
    "Define constants so the process flow can be controlled from one place:"
   ]
  },
  {
   "cell_type": "code",
   "execution_count": 2,
   "metadata": {},
   "outputs": [],
   "source": [
    "SINGLE_GATE_ERRORS = ['x', 'y', 'z', 'h', 's', 'sdg']\n",
    "TWO_GATE_ERRORS = ['cx', 'cz']\n",
    "\n",
    "NOISE = True                             #Test with noise\n",
    "SHOTS = 100000                           #Number of shots to run \n",
    "SHOTS_SINGLE = 1000000                   #Number of shots to run \n",
    "MEASURE_NOISE = 0.0046                   #Measurement noise not relevant\n",
    "SINGLE_GATE_DEPOLARISING = 0.000366      #Single gate noise   \n",
    "TWO_GATE_DEPOLARISING = 0.0204\n",
    "FACTOR_LIST = [1, 0.1, 0.01, 0.001, 0.0001]\n",
    "ITERATIONS = 25\n",
    "SIMULATOR = Aer.get_backend('qasm_simulator')\n",
    "TITLE = 'Steane code encoding'"
   ]
  },
  {
   "cell_type": "markdown",
   "metadata": {},
   "source": [
    "We specify the parity check matrix, since this defines the Steane code.  It is validated before the logical qubit is initiated to check that it is orthogonal to the valid codewords."
   ]
  },
  {
   "cell_type": "code",
   "execution_count": 3,
   "metadata": {},
   "outputs": [],
   "source": [
    "parity_check_matrix = ['0001111',\n",
    "                       '0110011',\n",
    "                       '1010101'\n",
    "                      ]"
   ]
  },
  {
   "cell_type": "code",
   "execution_count": 4,
   "metadata": {},
   "outputs": [],
   "source": [
    "codewords = ['0000000',\n",
    "             '1010101',\n",
    "             '0110011',\n",
    "             '1100110',\n",
    "             '0001111',\n",
    "             '1011010',\n",
    "             '0111100',\n",
    "             '1101001'\n",
    "            ]"
   ]
  },
  {
   "cell_type": "markdown",
   "metadata": {},
   "source": [
    "Function module for non fault tolerant decoding circuit."
   ]
  },
  {
   "cell_type": "code",
   "execution_count": 5,
   "metadata": {},
   "outputs": [],
   "source": [
    "def encoding():\n",
    "    # normal fault tolerance\n",
    "    qubit = SteaneCodeLogicalQubit(1, parity_check_matrix, codewords, ancilla = False)\n",
    "    qubit.set_up_logical_zero(0)\n",
    "    qubit.logical_measure_data(0)\n",
    "    if NOISE:\n",
    "        result = execute(qubit, SIMULATOR, noise_model = noise_model, shots = SHOTS).result()\n",
    "    else:\n",
    "        result = execute(qubit, SIMULATOR, shots = SHOTS).result()\n",
    "    counts = result.get_counts(qubit)\n",
    "    #print(counts)\n",
    "    return(counts)"
   ]
  },
  {
   "cell_type": "code",
   "execution_count": 6,
   "metadata": {},
   "outputs": [],
   "source": [
    "def single_qubit():\n",
    "    cd = QuantumRegister(1,'data')\n",
    "    sd = ClassicalRegister(1,'measure_data') \n",
    "    qc = QuantumCircuit(cd, sd)\n",
    "    qc.measure(cd, sd)\n",
    "    if NOISE:\n",
    "        result = execute(qc, SIMULATOR, noise_model = noise_model, shots = SHOTS_SINGLE).result()\n",
    "    else:\n",
    "        result = execute(qc, SIMULATOR, shots = SHOTS_SINGLE).result()\n",
    "    counts = result.get_counts(qc)\n",
    "    return(counts)"
   ]
  },
  {
   "cell_type": "markdown",
   "metadata": {},
   "source": [
    "Function module for non fault tolerant decoding circuit, scheme b from Goto's paper.  See worksheet \n",
    "\"Steane_code_encoding_FTb\" for circuit diagram"
   ]
  },
  {
   "cell_type": "code",
   "execution_count": 7,
   "metadata": {},
   "outputs": [],
   "source": [
    "def encoding_FTb():\n",
    "    qubit = SteaneCodeLogicalQubit(2, parity_check_matrix, codewords, \n",
    "                                   ancilla = False, fault_tolerant_b = True, \n",
    "                                   data_rounds = 3\n",
    "                                  )\n",
    "    qubit.set_up_logical_zero(0)\n",
    "    for i in range(3):\n",
    "        qubit.barrier()\n",
    "        qubit.set_up_logical_zero(1)\n",
    "        qubit.barrier()\n",
    "        qubit.logical_gate_CX(0, 1)\n",
    "        qubit.barrier()\n",
    "        qubit.logical_measure_data(logical_qubit = 1, measure_round = i + 1)\n",
    "        qubit.barrier() \n",
    "    qubit.logical_measure_data(0)\n",
    "    if NOISE:\n",
    "        result = execute(qubit, SIMULATOR, noise_model = noise_model, shots = SHOTS).result()\n",
    "    else:\n",
    "        result = execute(qubit, SIMULATOR, shots = SHOTS).result()\n",
    "    counts = result.get_counts(qubit)\n",
    "    return(counts)"
   ]
  },
  {
   "cell_type": "markdown",
   "metadata": {},
   "source": [
    "Function module for non fault tolerant decoding circuit, scheme c from Goto's paper.  See worksheet \n",
    "\"Steane_code_encoding_FTc\" for circuit diagram"
   ]
  },
  {
   "cell_type": "code",
   "execution_count": 8,
   "metadata": {},
   "outputs": [],
   "source": [
    "def encoding_FTc():\n",
    "    qubit_list = [2,4,5]\n",
    "    qubit = SteaneCodeLogicalQubit(1, parity_check_matrix, codewords, ancilla = False, \n",
    "                                   fault_tolerant_c = True, data_rounds = 3,                )\n",
    "    qubit.set_up_logical_zero(0)\n",
    "    qubit.barrier()\n",
    "    qubit.barrier()\n",
    "    for i in range(3):\n",
    "        qubit.encode_fault_tolerant_method_C(qubit_list)\n",
    "        qubit.barrier()\n",
    "        qubit.logical_measure_data(0, i + 1)\n",
    "        qubit.barrier()\n",
    "    qubit.barrier() \n",
    "    if NOISE:\n",
    "        result = execute(qubit, SIMULATOR, noise_model = noise_model, shots = SHOTS).result()\n",
    "    else:\n",
    "        result = execute(qubit, SIMULATOR, shots=SHOTS).result()\n",
    "    counts = result.get_counts(qubit)\n",
    "    #print(counts)\n",
    "    return(counts)"
   ]
  },
  {
   "cell_type": "code",
   "execution_count": 9,
   "metadata": {},
   "outputs": [
    {
     "name": "stdout",
     "output_type": "stream",
     "text": [
      "\n",
      "Current Time = 22:18:55\n",
      "Processing factor 1\n",
      "Processing single qubit\n",
      "The mean is 0.004608, the standard error is 0.000012\n",
      "The standard devation is 0.000061\n",
      "\n",
      "Processing FTb\n",
      "The mean is 0.100953, the standard error is 0.000354\n",
      "The standard devation is 0.001772\n",
      "\n",
      "Processing FTc\n",
      "The mean is 0.121794, the standard error is 0.000252\n",
      "The standard devation is 0.001258\n",
      "\n",
      "process non FT circuit\n",
      "The mean is 0.176796, the standard error is 0.000275\n",
      "The standard devations 0.001377\n",
      "\n",
      "Current Time = 22:36:12\n",
      "Processing factor 0.1\n",
      "Processing single qubit\n",
      "The mean is 0.000455, the standard error is 0.000003\n",
      "The standard devation is 0.000016\n",
      "\n",
      "Processing FTb\n",
      "The mean is 0.010312, the standard error is 0.000056\n",
      "The standard devation is 0.000281\n",
      "\n",
      "Processing FTc\n",
      "The mean is 0.012295, the standard error is 0.000086\n",
      "The standard devation is 0.000429\n",
      "\n",
      "process non FT circuit\n",
      "The mean is 0.019456, the standard error is 0.000077\n",
      "The standard devations 0.000383\n",
      "\n",
      "Current Time = 22:53:02\n",
      "Processing factor 0.01\n",
      "Processing single qubit\n",
      "The mean is 0.000047, the standard error is 0.000001\n",
      "The standard devation is 0.000006\n",
      "\n",
      "Processing FTb\n",
      "The mean is 0.001024, the standard error is 0.000018\n",
      "The standard devation is 0.000090\n",
      "\n",
      "Processing FTc\n",
      "The mean is 0.001249, the standard error is 0.000019\n",
      "The standard devation is 0.000095\n",
      "\n",
      "process non FT circuit\n",
      "The mean is 0.001936, the standard error is 0.000026\n",
      "The standard devations 0.000130\n",
      "\n",
      "Current Time = 23:09:37\n",
      "Processing factor 0.001\n",
      "Processing single qubit\n",
      "The mean is 0.000005, the standard error is 0.000001\n",
      "The standard devation is 0.000003\n",
      "\n",
      "Processing FTb\n",
      "The mean is 0.000110, the standard error is 0.000005\n",
      "The standard devation is 0.000027\n",
      "\n",
      "Processing FTc\n",
      "The mean is 0.000124, the standard error is 0.000006\n",
      "The standard devation is 0.000031\n",
      "\n",
      "process non FT circuit\n",
      "The mean is 0.000186, the standard error is 0.000008\n",
      "The standard devations 0.000039\n",
      "\n",
      "Current Time = 23:25:55\n",
      "Processing factor 0.0001\n",
      "Processing single qubit\n",
      "The mean is 0.000000, the standard error is 0.000000\n",
      "The standard devation is 0.000001\n",
      "\n",
      "Processing FTb\n",
      "The mean is 0.000014, the standard error is 0.000002\n",
      "The standard devation is 0.000012\n",
      "\n",
      "Processing FTc\n",
      "The mean is 0.000010, the standard error is 0.000002\n",
      "The standard devation is 0.000010\n",
      "\n",
      "process non FT circuit\n",
      "The mean is 0.000022, the standard error is 0.000003\n",
      "The standard devations 0.000014\n"
     ]
    }
   ],
   "source": [
    "single = []\n",
    "nonft = []\n",
    "ftb = []\n",
    "ftc = []\n",
    "error_single = []\n",
    "error_ftb = []\n",
    "error_ftc = []\n",
    "error_nonft = []\n",
    "for factor in FACTOR_LIST:\n",
    "    print()\n",
    "    print_time()\n",
    "    print(f'Processing factor {factor}')\n",
    "    if NOISE:\n",
    "        noise_model = get_noise(MEASURE_NOISE * factor, SINGLE_GATE_DEPOLARISING * factor, \n",
    "                                TWO_GATE_DEPOLARISING * factor, SINGLE_GATE_ERRORS, TWO_GATE_ERRORS\n",
    "                               )\n",
    "        \n",
    "    print('Processing single qubit')\n",
    "    results_list = []\n",
    "    for iteration in range(ITERATIONS):\n",
    "        counts = single_qubit()\n",
    "        error_rate, rejected, accepted, valid, invalid = process_FT_results(counts, '0', 'S')\n",
    "        results_list.append(error_rate)\n",
    "    mean = mean_of_list(results_list)\n",
    "    standard_deviation, standard_error = calculate_standard_error(results_list)\n",
    "    print(f'The mean is {mean:.6f}, the standard error is {standard_error:.6f}')\n",
    "    print(f'The standard devation is {standard_deviation:.6f}')\n",
    "    single.append(mean)\n",
    "    error_single.append(standard_error)\n",
    "    print()\n",
    "    \n",
    "    print('Processing FTb')\n",
    "    results_list = []\n",
    "    for iteration in range(ITERATIONS):\n",
    "        #print(f'Processing iteration {iteration}')\n",
    "        counts = encoding_FTb()\n",
    "        #print ('The different states can be counted.  The simulated result are', counts)\n",
    "        error_rate, rejected, accepted, valid, invalid = process_FT_results(counts, codewords, 'B')\n",
    "        #print(f'The error rate is {error_rate:.4f} ')\n",
    "        results_list.append(error_rate)\n",
    "        #print()\n",
    "    mean = mean_of_list(results_list)\n",
    "    standard_deviation, standard_error = calculate_standard_error(results_list)\n",
    "    print(f'The mean is {mean:.6f}, the standard error is {standard_error:.6f}')\n",
    "    print(f'The standard devation is {standard_deviation:.6f}')\n",
    "    ftb.append(mean)\n",
    "    error_ftb.append(standard_error)\n",
    "    print()\n",
    "    \n",
    "    print('Processing FTc')\n",
    "    results_list = []\n",
    "    for iteration in range(ITERATIONS):\n",
    "        #print(f'Processing iteration {iteration}')\n",
    "        counts = encoding_FTc()\n",
    "        #print ('The different states can be counted.  The simulated result are', counts)\n",
    "        error_rate, rejected, accepted, valid, invalid = process_FT_results(counts, codewords, 'C')\n",
    "        #print(f'The error rate is {error_rate:.4f} ')\n",
    "        results_list.append(error_rate)\n",
    "        #print()\n",
    "    mean = mean_of_list(results_list)\n",
    "    standard_deviation, standard_error = calculate_standard_error(results_list)\n",
    "    print(f'The mean is {mean:.6f}, the standard error is {standard_error:.6f}')\n",
    "    print(f'The standard devation is {standard_deviation:.6f}')\n",
    "    ftc.append(mean)\n",
    "    error_ftc.append(standard_error)\n",
    "    print()\n",
    "    \n",
    "    print('process non FT circuit')\n",
    "    results_list = []\n",
    "    for iteration in range(ITERATIONS):\n",
    "        #print(f'Processing iteration {iteration}')\n",
    "        counts = encoding()\n",
    "        #print ('The different states can be counted.  The simulated result are', counts)\n",
    "        error_rate, rejected, accepted, valid, invalid = process_FT_results(counts, codewords, 'N')\n",
    "        #print(f'The error rate is {error_rate:.4f} ')\n",
    "        results_list.append(error_rate)\n",
    "        #print()\n",
    "    mean = mean_of_list(results_list)\n",
    "    standard_deviation, standard_error = calculate_standard_error(results_list)\n",
    "    print(f'The mean is {mean:.6f}, the standard error is {standard_error:.6f}')\n",
    "    print(f'The standard devations {standard_deviation:.6f}')\n",
    "    nonft.append(mean)\n",
    "    error_nonft.append(standard_error)\n"
   ]
  },
  {
   "cell_type": "code",
   "execution_count": 10,
   "metadata": {},
   "outputs": [
    {
     "data": {
      "image/png": "[encoded data removed]",
      "text/plain": [
       "<Figure size 432x288 with 1 Axes>"
      ]
     },
     "metadata": {
      "needs_background": "light"
     },
     "output_type": "display_data"
    }
   ],
   "source": [
    "plt.plot(FACTOR_LIST, single, '.',color = 'red', linestyle = '', label = 'Single qubit')\n",
    "plt.plot(FACTOR_LIST, ftb, '.',color = '#ff8333', linestyle = '', label = 'Fault tolerant scheme B')\n",
    "plt.plot(FACTOR_LIST, ftc, '.',color = '#8333ff', linestyle = '', label = 'Fault tolerant scheme C')\n",
    "plt.plot(FACTOR_LIST, nonft, '.',color = 'blue', linestyle = '', label = 'Non fault tolerant')\n",
    "plt.errorbar(FACTOR_LIST, single, yerr = error_single, color = 'red' )   \n",
    "plt.errorbar(FACTOR_LIST, ftb, yerr = error_ftb, color = '#ff8333' )\n",
    "plt.errorbar(FACTOR_LIST, ftc, yerr = error_ftc, color = '#8333ff' )\n",
    "plt.errorbar(FACTOR_LIST, nonft, yerr = error_nonft, color = 'blue' )\n",
    "plt.xlabel('Error scaling factor')\n",
    "plt.ylabel('Error rate')\n",
    "plt.title(TITLE)\n",
    "plt.xscale(\"log\")\n",
    "plt.yscale(\"log\")\n",
    "plt.legend()\n",
    "\n",
    "fname = TITLE + '.png'\n",
    "plt.savefig(fname)"
   ]
  },
  {
   "cell_type": "code",
   "execution_count": null,
   "metadata": {},
   "outputs": [],
   "source": []
  }
 ],
 "metadata": {
  "kernelspec": {
   "display_name": "Python 3",
   "language": "python",
   "name": "python3"
  },
  "language_info": {
   "codemirror_mode": {
    "name": "ipython",
    "version": 3
   },
   "file_extension": ".py",
   "mimetype": "text/x-python",
   "name": "python",
   "nbconvert_exporter": "python",
   "pygments_lexer": "ipython3",
   "version": "3.8.10"
  }
 },
 "nbformat": 4,
 "nbformat_minor": 4
}
